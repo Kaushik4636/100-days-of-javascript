{
  "nbformat": 4,
  "nbformat_minor": 0,
  "metadata": {
    "colab": {
      "provenance": [],
      "authorship_tag": "ABX9TyMUS9MW06CvH2SlrhQY6aDo",
      "include_colab_link": true
    },
    "kernelspec": {
      "name": "python3",
      "display_name": "Python 3"
    },
    "language_info": {
      "name": "python"
    }
  },
  "cells": [
    {
      "cell_type": "markdown",
      "metadata": {
        "id": "view-in-github",
        "colab_type": "text"
      },
      "source": [
        "<a href=\"https://colab.research.google.com/github/Kaushik4636/100-days-of-javascript/blob/master/Uber_data_analysis.ipynb\" target=\"_parent\"><img src=\"https://colab.research.google.com/assets/colab-badge.svg\" alt=\"Open In Colab\"/></a>"
      ]
    },
    {
      "cell_type": "code",
      "execution_count": 1,
      "metadata": {
        "id": "g2-yIbdmonBW"
      },
      "outputs": [],
      "source": [
        "import pandas as pd\n",
        "\n",
        "import numpy as np\n",
        "\n",
        "import time,datetime\n",
        "\n",
        "import matplotlib\n",
        "\n",
        "import matplotlib.pyplot as plt\n",
        "\n",
        "import seaborn as sns\n",
        "\n",
        "import calendar"
      ]
    },
    {
      "cell_type": "markdown",
      "source": [
        "Exploratory Data Analysis on Uber Data"
      ],
      "metadata": {
        "id": "FhuigZfcKKCi"
      }
    },
    {
      "cell_type": "code",
      "source": [
        "uber_data = pd.read_csv('My Uber Drives - 2016.csv')"
      ],
      "metadata": {
        "id": "6vapcU1no4AQ"
      },
      "execution_count": 2,
      "outputs": []
    },
    {
      "cell_type": "code",
      "source": [
        "uber_data.head()"
      ],
      "metadata": {
        "colab": {
          "base_uri": "https://localhost:8080/",
          "height": 206
        },
        "id": "Meia9g3EpK-d",
        "outputId": "fab68fc9-a2b6-4444-a5f1-0b58ffcb4b4a"
      },
      "execution_count": 66,
      "outputs": [
        {
          "output_type": "execute_result",
          "data": {
            "text/plain": [
              "           START_DATE            END_DATE  CATEGORY            START  \\\n",
              "0 2016-01-01 21:11:00 2016-01-01 21:17:00  Business      Fort Pierce   \n",
              "2 2016-01-02 20:25:00 2016-01-02 20:38:00  Business      Fort Pierce   \n",
              "3 2016-01-05 17:31:00 2016-01-05 17:45:00  Business      Fort Pierce   \n",
              "4 2016-01-06 14:42:00 2016-01-06 15:49:00  Business      Fort Pierce   \n",
              "5 2016-01-06 17:15:00 2016-01-06 17:19:00  Business  West Palm Beach   \n",
              "\n",
              "              STOP  MILES          PURPOSE  HOUR  DAY  MONTH    WEEKDAY  \\\n",
              "0      Fort Pierce    5.1   Meal/Entertain    21    1      1     Friday   \n",
              "2      Fort Pierce    4.8  Errand/Supplies    20    2      1   Saturday   \n",
              "3      Fort Pierce    4.7          Meeting    17    5      1    Tuesday   \n",
              "4  West Palm Beach   63.7   Customer Visit    14    6      1  Wednesday   \n",
              "5  West Palm Beach    4.3   Meal/Entertain    17    6      1  Wednesday   \n",
              "\n",
              "   DAY_OF_WEEK  \n",
              "0            4  \n",
              "2            5  \n",
              "3            1  \n",
              "4            2  \n",
              "5            2  "
            ],
            "text/html": [
              "\n",
              "  <div id=\"df-f66c8d55-3bea-4c77-b8f0-1abd1a7c94be\" class=\"colab-df-container\">\n",
              "    <div>\n",
              "<style scoped>\n",
              "    .dataframe tbody tr th:only-of-type {\n",
              "        vertical-align: middle;\n",
              "    }\n",
              "\n",
              "    .dataframe tbody tr th {\n",
              "        vertical-align: top;\n",
              "    }\n",
              "\n",
              "    .dataframe thead th {\n",
              "        text-align: right;\n",
              "    }\n",
              "</style>\n",
              "<table border=\"1\" class=\"dataframe\">\n",
              "  <thead>\n",
              "    <tr style=\"text-align: right;\">\n",
              "      <th></th>\n",
              "      <th>START_DATE</th>\n",
              "      <th>END_DATE</th>\n",
              "      <th>CATEGORY</th>\n",
              "      <th>START</th>\n",
              "      <th>STOP</th>\n",
              "      <th>MILES</th>\n",
              "      <th>PURPOSE</th>\n",
              "      <th>HOUR</th>\n",
              "      <th>DAY</th>\n",
              "      <th>MONTH</th>\n",
              "      <th>WEEKDAY</th>\n",
              "      <th>DAY_OF_WEEK</th>\n",
              "    </tr>\n",
              "  </thead>\n",
              "  <tbody>\n",
              "    <tr>\n",
              "      <th>0</th>\n",
              "      <td>2016-01-01 21:11:00</td>\n",
              "      <td>2016-01-01 21:17:00</td>\n",
              "      <td>Business</td>\n",
              "      <td>Fort Pierce</td>\n",
              "      <td>Fort Pierce</td>\n",
              "      <td>5.1</td>\n",
              "      <td>Meal/Entertain</td>\n",
              "      <td>21</td>\n",
              "      <td>1</td>\n",
              "      <td>1</td>\n",
              "      <td>Friday</td>\n",
              "      <td>4</td>\n",
              "    </tr>\n",
              "    <tr>\n",
              "      <th>2</th>\n",
              "      <td>2016-01-02 20:25:00</td>\n",
              "      <td>2016-01-02 20:38:00</td>\n",
              "      <td>Business</td>\n",
              "      <td>Fort Pierce</td>\n",
              "      <td>Fort Pierce</td>\n",
              "      <td>4.8</td>\n",
              "      <td>Errand/Supplies</td>\n",
              "      <td>20</td>\n",
              "      <td>2</td>\n",
              "      <td>1</td>\n",
              "      <td>Saturday</td>\n",
              "      <td>5</td>\n",
              "    </tr>\n",
              "    <tr>\n",
              "      <th>3</th>\n",
              "      <td>2016-01-05 17:31:00</td>\n",
              "      <td>2016-01-05 17:45:00</td>\n",
              "      <td>Business</td>\n",
              "      <td>Fort Pierce</td>\n",
              "      <td>Fort Pierce</td>\n",
              "      <td>4.7</td>\n",
              "      <td>Meeting</td>\n",
              "      <td>17</td>\n",
              "      <td>5</td>\n",
              "      <td>1</td>\n",
              "      <td>Tuesday</td>\n",
              "      <td>1</td>\n",
              "    </tr>\n",
              "    <tr>\n",
              "      <th>4</th>\n",
              "      <td>2016-01-06 14:42:00</td>\n",
              "      <td>2016-01-06 15:49:00</td>\n",
              "      <td>Business</td>\n",
              "      <td>Fort Pierce</td>\n",
              "      <td>West Palm Beach</td>\n",
              "      <td>63.7</td>\n",
              "      <td>Customer Visit</td>\n",
              "      <td>14</td>\n",
              "      <td>6</td>\n",
              "      <td>1</td>\n",
              "      <td>Wednesday</td>\n",
              "      <td>2</td>\n",
              "    </tr>\n",
              "    <tr>\n",
              "      <th>5</th>\n",
              "      <td>2016-01-06 17:15:00</td>\n",
              "      <td>2016-01-06 17:19:00</td>\n",
              "      <td>Business</td>\n",
              "      <td>West Palm Beach</td>\n",
              "      <td>West Palm Beach</td>\n",
              "      <td>4.3</td>\n",
              "      <td>Meal/Entertain</td>\n",
              "      <td>17</td>\n",
              "      <td>6</td>\n",
              "      <td>1</td>\n",
              "      <td>Wednesday</td>\n",
              "      <td>2</td>\n",
              "    </tr>\n",
              "  </tbody>\n",
              "</table>\n",
              "</div>\n",
              "    <div class=\"colab-df-buttons\">\n",
              "\n",
              "  <div class=\"colab-df-container\">\n",
              "    <button class=\"colab-df-convert\" onclick=\"convertToInteractive('df-f66c8d55-3bea-4c77-b8f0-1abd1a7c94be')\"\n",
              "            title=\"Convert this dataframe to an interactive table.\"\n",
              "            style=\"display:none;\">\n",
              "\n",
              "  <svg xmlns=\"http://www.w3.org/2000/svg\" height=\"24px\" viewBox=\"0 -960 960 960\">\n",
              "    <path d=\"M120-120v-720h720v720H120Zm60-500h600v-160H180v160Zm220 220h160v-160H400v160Zm0 220h160v-160H400v160ZM180-400h160v-160H180v160Zm440 0h160v-160H620v160ZM180-180h160v-160H180v160Zm440 0h160v-160H620v160Z\"/>\n",
              "  </svg>\n",
              "    </button>\n",
              "\n",
              "  <style>\n",
              "    .colab-df-container {\n",
              "      display:flex;\n",
              "      gap: 12px;\n",
              "    }\n",
              "\n",
              "    .colab-df-convert {\n",
              "      background-color: #E8F0FE;\n",
              "      border: none;\n",
              "      border-radius: 50%;\n",
              "      cursor: pointer;\n",
              "      display: none;\n",
              "      fill: #1967D2;\n",
              "      height: 32px;\n",
              "      padding: 0 0 0 0;\n",
              "      width: 32px;\n",
              "    }\n",
              "\n",
              "    .colab-df-convert:hover {\n",
              "      background-color: #E2EBFA;\n",
              "      box-shadow: 0px 1px 2px rgba(60, 64, 67, 0.3), 0px 1px 3px 1px rgba(60, 64, 67, 0.15);\n",
              "      fill: #174EA6;\n",
              "    }\n",
              "\n",
              "    .colab-df-buttons div {\n",
              "      margin-bottom: 4px;\n",
              "    }\n",
              "\n",
              "    [theme=dark] .colab-df-convert {\n",
              "      background-color: #3B4455;\n",
              "      fill: #D2E3FC;\n",
              "    }\n",
              "\n",
              "    [theme=dark] .colab-df-convert:hover {\n",
              "      background-color: #434B5C;\n",
              "      box-shadow: 0px 1px 3px 1px rgba(0, 0, 0, 0.15);\n",
              "      filter: drop-shadow(0px 1px 2px rgba(0, 0, 0, 0.3));\n",
              "      fill: #FFFFFF;\n",
              "    }\n",
              "  </style>\n",
              "\n",
              "    <script>\n",
              "      const buttonEl =\n",
              "        document.querySelector('#df-f66c8d55-3bea-4c77-b8f0-1abd1a7c94be button.colab-df-convert');\n",
              "      buttonEl.style.display =\n",
              "        google.colab.kernel.accessAllowed ? 'block' : 'none';\n",
              "\n",
              "      async function convertToInteractive(key) {\n",
              "        const element = document.querySelector('#df-f66c8d55-3bea-4c77-b8f0-1abd1a7c94be');\n",
              "        const dataTable =\n",
              "          await google.colab.kernel.invokeFunction('convertToInteractive',\n",
              "                                                    [key], {});\n",
              "        if (!dataTable) return;\n",
              "\n",
              "        const docLinkHtml = 'Like what you see? Visit the ' +\n",
              "          '<a target=\"_blank\" href=https://colab.research.google.com/notebooks/data_table.ipynb>data table notebook</a>'\n",
              "          + ' to learn more about interactive tables.';\n",
              "        element.innerHTML = '';\n",
              "        dataTable['output_type'] = 'display_data';\n",
              "        await google.colab.output.renderOutput(dataTable, element);\n",
              "        const docLink = document.createElement('div');\n",
              "        docLink.innerHTML = docLinkHtml;\n",
              "        element.appendChild(docLink);\n",
              "      }\n",
              "    </script>\n",
              "  </div>\n",
              "\n",
              "\n",
              "<div id=\"df-0abc9e63-6b45-4a4d-8ff4-2bb0057e39e9\">\n",
              "  <button class=\"colab-df-quickchart\" onclick=\"quickchart('df-0abc9e63-6b45-4a4d-8ff4-2bb0057e39e9')\"\n",
              "            title=\"Suggest charts\"\n",
              "            style=\"display:none;\">\n",
              "\n",
              "<svg xmlns=\"http://www.w3.org/2000/svg\" height=\"24px\"viewBox=\"0 0 24 24\"\n",
              "     width=\"24px\">\n",
              "    <g>\n",
              "        <path d=\"M19 3H5c-1.1 0-2 .9-2 2v14c0 1.1.9 2 2 2h14c1.1 0 2-.9 2-2V5c0-1.1-.9-2-2-2zM9 17H7v-7h2v7zm4 0h-2V7h2v10zm4 0h-2v-4h2v4z\"/>\n",
              "    </g>\n",
              "</svg>\n",
              "  </button>\n",
              "\n",
              "<style>\n",
              "  .colab-df-quickchart {\n",
              "      --bg-color: #E8F0FE;\n",
              "      --fill-color: #1967D2;\n",
              "      --hover-bg-color: #E2EBFA;\n",
              "      --hover-fill-color: #174EA6;\n",
              "      --disabled-fill-color: #AAA;\n",
              "      --disabled-bg-color: #DDD;\n",
              "  }\n",
              "\n",
              "  [theme=dark] .colab-df-quickchart {\n",
              "      --bg-color: #3B4455;\n",
              "      --fill-color: #D2E3FC;\n",
              "      --hover-bg-color: #434B5C;\n",
              "      --hover-fill-color: #FFFFFF;\n",
              "      --disabled-bg-color: #3B4455;\n",
              "      --disabled-fill-color: #666;\n",
              "  }\n",
              "\n",
              "  .colab-df-quickchart {\n",
              "    background-color: var(--bg-color);\n",
              "    border: none;\n",
              "    border-radius: 50%;\n",
              "    cursor: pointer;\n",
              "    display: none;\n",
              "    fill: var(--fill-color);\n",
              "    height: 32px;\n",
              "    padding: 0;\n",
              "    width: 32px;\n",
              "  }\n",
              "\n",
              "  .colab-df-quickchart:hover {\n",
              "    background-color: var(--hover-bg-color);\n",
              "    box-shadow: 0 1px 2px rgba(60, 64, 67, 0.3), 0 1px 3px 1px rgba(60, 64, 67, 0.15);\n",
              "    fill: var(--button-hover-fill-color);\n",
              "  }\n",
              "\n",
              "  .colab-df-quickchart-complete:disabled,\n",
              "  .colab-df-quickchart-complete:disabled:hover {\n",
              "    background-color: var(--disabled-bg-color);\n",
              "    fill: var(--disabled-fill-color);\n",
              "    box-shadow: none;\n",
              "  }\n",
              "\n",
              "  .colab-df-spinner {\n",
              "    border: 2px solid var(--fill-color);\n",
              "    border-color: transparent;\n",
              "    border-bottom-color: var(--fill-color);\n",
              "    animation:\n",
              "      spin 1s steps(1) infinite;\n",
              "  }\n",
              "\n",
              "  @keyframes spin {\n",
              "    0% {\n",
              "      border-color: transparent;\n",
              "      border-bottom-color: var(--fill-color);\n",
              "      border-left-color: var(--fill-color);\n",
              "    }\n",
              "    20% {\n",
              "      border-color: transparent;\n",
              "      border-left-color: var(--fill-color);\n",
              "      border-top-color: var(--fill-color);\n",
              "    }\n",
              "    30% {\n",
              "      border-color: transparent;\n",
              "      border-left-color: var(--fill-color);\n",
              "      border-top-color: var(--fill-color);\n",
              "      border-right-color: var(--fill-color);\n",
              "    }\n",
              "    40% {\n",
              "      border-color: transparent;\n",
              "      border-right-color: var(--fill-color);\n",
              "      border-top-color: var(--fill-color);\n",
              "    }\n",
              "    60% {\n",
              "      border-color: transparent;\n",
              "      border-right-color: var(--fill-color);\n",
              "    }\n",
              "    80% {\n",
              "      border-color: transparent;\n",
              "      border-right-color: var(--fill-color);\n",
              "      border-bottom-color: var(--fill-color);\n",
              "    }\n",
              "    90% {\n",
              "      border-color: transparent;\n",
              "      border-bottom-color: var(--fill-color);\n",
              "    }\n",
              "  }\n",
              "</style>\n",
              "\n",
              "  <script>\n",
              "    async function quickchart(key) {\n",
              "      const quickchartButtonEl =\n",
              "        document.querySelector('#' + key + ' button');\n",
              "      quickchartButtonEl.disabled = true;  // To prevent multiple clicks.\n",
              "      quickchartButtonEl.classList.add('colab-df-spinner');\n",
              "      try {\n",
              "        const charts = await google.colab.kernel.invokeFunction(\n",
              "            'suggestCharts', [key], {});\n",
              "      } catch (error) {\n",
              "        console.error('Error during call to suggestCharts:', error);\n",
              "      }\n",
              "      quickchartButtonEl.classList.remove('colab-df-spinner');\n",
              "      quickchartButtonEl.classList.add('colab-df-quickchart-complete');\n",
              "    }\n",
              "    (() => {\n",
              "      let quickchartButtonEl =\n",
              "        document.querySelector('#df-0abc9e63-6b45-4a4d-8ff4-2bb0057e39e9 button');\n",
              "      quickchartButtonEl.style.display =\n",
              "        google.colab.kernel.accessAllowed ? 'block' : 'none';\n",
              "    })();\n",
              "  </script>\n",
              "</div>\n",
              "\n",
              "    </div>\n",
              "  </div>\n"
            ],
            "application/vnd.google.colaboratory.intrinsic+json": {
              "type": "dataframe",
              "variable_name": "uber_data",
              "summary": "{\n  \"name\": \"uber_data\",\n  \"rows\": 653,\n  \"fields\": [\n    {\n      \"column\": \"START_DATE\",\n      \"properties\": {\n        \"dtype\": \"date\",\n        \"min\": \"2016-01-01 21:11:00\",\n        \"max\": \"2016-12-31 22:08:00\",\n        \"num_unique_values\": 652,\n        \"samples\": [\n          \"2016-12-29 19:50:00\",\n          \"2016-05-01 22:38:00\",\n          \"2016-04-29 22:44:00\"\n        ],\n        \"semantic_type\": \"\",\n        \"description\": \"\"\n      }\n    },\n    {\n      \"column\": \"END_DATE\",\n      \"properties\": {\n        \"dtype\": \"date\",\n        \"min\": \"2016-01-01 21:17:00\",\n        \"max\": \"2016-12-31 23:51:00\",\n        \"num_unique_values\": 652,\n        \"samples\": [\n          \"2016-12-29 20:10:00\",\n          \"2016-05-01 22:49:00\",\n          \"2016-04-29 23:19:00\"\n        ],\n        \"semantic_type\": \"\",\n        \"description\": \"\"\n      }\n    },\n    {\n      \"column\": \"CATEGORY\",\n      \"properties\": {\n        \"dtype\": \"category\",\n        \"num_unique_values\": 2,\n        \"samples\": [\n          \"Personal\",\n          \"Business\"\n        ],\n        \"semantic_type\": \"\",\n        \"description\": \"\"\n      }\n    },\n    {\n      \"column\": \"START\",\n      \"properties\": {\n        \"dtype\": \"category\",\n        \"num_unique_values\": 130,\n        \"samples\": [\n          \"Sharpstown\",\n          \"Noorpur Shahan\"\n        ],\n        \"semantic_type\": \"\",\n        \"description\": \"\"\n      }\n    },\n    {\n      \"column\": \"STOP\",\n      \"properties\": {\n        \"dtype\": \"category\",\n        \"num_unique_values\": 136,\n        \"samples\": [\n          \"Holly Springs\",\n          \"Waverly Place\"\n        ],\n        \"semantic_type\": \"\",\n        \"description\": \"\"\n      }\n    },\n    {\n      \"column\": \"MILES\",\n      \"properties\": {\n        \"dtype\": \"number\",\n        \"std\": 22.986428750819957,\n        \"min\": 0.5,\n        \"max\": 310.3,\n        \"num_unique_values\": 205,\n        \"samples\": [\n          1.9,\n          10.8\n        ],\n        \"semantic_type\": \"\",\n        \"description\": \"\"\n      }\n    },\n    {\n      \"column\": \"PURPOSE\",\n      \"properties\": {\n        \"dtype\": \"category\",\n        \"num_unique_values\": 10,\n        \"samples\": [\n          \"Moving\",\n          \"Errand/Supplies\"\n        ],\n        \"semantic_type\": \"\",\n        \"description\": \"\"\n      }\n    },\n    {\n      \"column\": \"HOUR\",\n      \"properties\": {\n        \"dtype\": \"number\",\n        \"std\": 4,\n        \"min\": 0,\n        \"max\": 23,\n        \"num_unique_values\": 23,\n        \"samples\": [\n          3,\n          19\n        ],\n        \"semantic_type\": \"\",\n        \"description\": \"\"\n      }\n    },\n    {\n      \"column\": \"DAY\",\n      \"properties\": {\n        \"dtype\": \"number\",\n        \"std\": 8,\n        \"min\": 1,\n        \"max\": 31,\n        \"num_unique_values\": 31,\n        \"samples\": [\n          25,\n          26\n        ],\n        \"semantic_type\": \"\",\n        \"description\": \"\"\n      }\n    },\n    {\n      \"column\": \"MONTH\",\n      \"properties\": {\n        \"dtype\": \"number\",\n        \"std\": 3,\n        \"min\": 1,\n        \"max\": 12,\n        \"num_unique_values\": 11,\n        \"samples\": [\n          6,\n          1\n        ],\n        \"semantic_type\": \"\",\n        \"description\": \"\"\n      }\n    },\n    {\n      \"column\": \"WEEKDAY\",\n      \"properties\": {\n        \"dtype\": \"category\",\n        \"num_unique_values\": 7,\n        \"samples\": [\n          \"Friday\",\n          \"Saturday\"\n        ],\n        \"semantic_type\": \"\",\n        \"description\": \"\"\n      }\n    },\n    {\n      \"column\": \"DAY_OF_WEEK\",\n      \"properties\": {\n        \"dtype\": \"number\",\n        \"std\": 1,\n        \"min\": 0,\n        \"max\": 6,\n        \"num_unique_values\": 7,\n        \"samples\": [\n          4,\n          5\n        ],\n        \"semantic_type\": \"\",\n        \"description\": \"\"\n      }\n    }\n  ]\n}"
            }
          },
          "metadata": {},
          "execution_count": 66
        }
      ]
    },
    {
      "cell_type": "code",
      "source": [
        "#Now lets rename the columns and remove '*' from columns' name.\n",
        "uber_data = uber_data.rename(columns = {uber_data.columns[0]:'START_DATE',\n",
        "                                        uber_data.columns[1]:'END_DATE',\n",
        "                                        uber_data.columns[2]:'CATEGORY',\n",
        "                                        uber_data.columns[3]:'START',\n",
        "                                        uber_data.columns[4]:'STOP',\n",
        "                                        uber_data.columns[5]: 'MILES',\n",
        "                                        uber_data.columns[6]:'PURPOSE'})"
      ],
      "metadata": {
        "id": "RFLG5a6zpPPP"
      },
      "execution_count": 4,
      "outputs": []
    },
    {
      "cell_type": "code",
      "source": [
        "print(uber_data.isnull().sum())\n",
        "print(uber_data.isnull().sum().sum())\n",
        "\n",
        "uber_data=uber_data.dropna()"
      ],
      "metadata": {
        "colab": {
          "base_uri": "https://localhost:8080/"
        },
        "id": "0iJV2wJmpY7q",
        "outputId": "bfe0ab12-0bf7-4d4e-aa2d-52a5f825765b"
      },
      "execution_count": 5,
      "outputs": [
        {
          "output_type": "stream",
          "name": "stdout",
          "text": [
            "START_DATE      0\n",
            "END_DATE        1\n",
            "CATEGORY        1\n",
            "START           1\n",
            "STOP            1\n",
            "MILES           0\n",
            "PURPOSE       503\n",
            "dtype: int64\n",
            "507\n"
          ]
        }
      ]
    },
    {
      "cell_type": "code",
      "source": [
        "uber_data[uber_data.START.str.contains('\\?') == True]"
      ],
      "metadata": {
        "colab": {
          "base_uri": "https://localhost:8080/",
          "height": 896
        },
        "id": "EZZY4y2xpdSi",
        "outputId": "746dae98-5456-429f-8ead-affd07c4b410"
      },
      "execution_count": 6,
      "outputs": [
        {
          "output_type": "execute_result",
          "data": {
            "text/plain": [
              "            START_DATE          END_DATE  CATEGORY       START  \\\n",
              "140    2/20/2016 14:50   2/20/2016 15:54  Business  R?walpindi   \n",
              "1119   12/27/2016 7:02   12/27/2016 7:14  Business     Kar?chi   \n",
              "1120   12/27/2016 8:37   12/27/2016 8:59  Business     Kar?chi   \n",
              "1121  12/27/2016 12:53  12/27/2016 12:57  Business     Kar?chi   \n",
              "1122  12/27/2016 14:49  12/27/2016 15:03  Business     Kar?chi   \n",
              "1124  12/27/2016 19:19  12/27/2016 19:50  Business     Kar?chi   \n",
              "1125   12/28/2016 8:34   12/28/2016 9:06  Business     Kar?chi   \n",
              "1127  12/28/2016 13:53  12/28/2016 14:01  Business     Kar?chi   \n",
              "1128  12/28/2016 15:04  12/28/2016 15:39  Business     Kar?chi   \n",
              "1130  12/28/2016 18:33  12/28/2016 18:56  Business     Kar?chi   \n",
              "1131  12/28/2016 22:44  12/28/2016 23:18  Business     Kar?chi   \n",
              "1132   12/29/2016 0:49   12/29/2016 1:06  Business     Kar?chi   \n",
              "1133   12/29/2016 9:44  12/29/2016 10:07  Business     Kar?chi   \n",
              "1135  12/29/2016 12:25  12/29/2016 12:33  Business     Kar?chi   \n",
              "1136  12/29/2016 13:17  12/29/2016 13:24  Business     Kar?chi   \n",
              "1137  12/29/2016 13:56  12/29/2016 14:11  Business     Kar?chi   \n",
              "1138  12/29/2016 14:42  12/29/2016 14:58  Business     Kar?chi   \n",
              "1139  12/29/2016 15:05  12/29/2016 15:16  Business     Kar?chi   \n",
              "1140  12/29/2016 18:59  12/29/2016 19:14  Business     Kar?chi   \n",
              "1142  12/29/2016 20:15  12/29/2016 20:45  Business     Kar?chi   \n",
              "1145  12/30/2016 10:15  12/30/2016 10:33  Business     Kar?chi   \n",
              "1146  12/30/2016 11:31  12/30/2016 11:56  Business     Kar?chi   \n",
              "1147  12/30/2016 15:41  12/30/2016 16:03  Business     Kar?chi   \n",
              "1148  12/30/2016 16:45  12/30/2016 17:08  Business     Kar?chi   \n",
              "1149  12/30/2016 23:06  12/30/2016 23:10  Business     Kar?chi   \n",
              "1150   12/31/2016 1:07   12/31/2016 1:14  Business     Kar?chi   \n",
              "1151  12/31/2016 13:24  12/31/2016 13:42  Business     Kar?chi   \n",
              "\n",
              "                  STOP  MILES          PURPOSE  \n",
              "140         R?walpindi   23.1          Meeting  \n",
              "1119           Kar?chi    4.9   Temporary Site  \n",
              "1120           Kar?chi    5.0   Meal/Entertain  \n",
              "1121           Kar?chi    0.6   Meal/Entertain  \n",
              "1122  Unknown Location    3.1   Customer Visit  \n",
              "1124           Kar?chi    5.5   Customer Visit  \n",
              "1125  Unknown Location   10.3   Meal/Entertain  \n",
              "1127           Kar?chi    2.0  Errand/Supplies  \n",
              "1128  Unknown Location    8.5   Meal/Entertain  \n",
              "1130           Kar?chi    3.8  Errand/Supplies  \n",
              "1131           Kar?chi    5.1  Errand/Supplies  \n",
              "1132           Kar?chi    3.8  Errand/Supplies  \n",
              "1133  Unknown Location   11.6   Meal/Entertain  \n",
              "1135           Kar?chi    1.4  Errand/Supplies  \n",
              "1136           Kar?chi    1.1  Errand/Supplies  \n",
              "1137           Kar?chi    4.1   Airport/Travel  \n",
              "1138           Kar?chi    6.1  Between Offices  \n",
              "1139           Kar?chi    1.3  Errand/Supplies  \n",
              "1140  Unknown Location    3.0   Meal/Entertain  \n",
              "1142           Kar?chi    7.2          Meeting  \n",
              "1145           Kar?chi    2.8  Errand/Supplies  \n",
              "1146           Kar?chi    2.9  Errand/Supplies  \n",
              "1147           Kar?chi    4.6  Errand/Supplies  \n",
              "1148           Kar?chi    4.6          Meeting  \n",
              "1149           Kar?chi    0.8   Customer Visit  \n",
              "1150           Kar?chi    0.7          Meeting  \n",
              "1151  Unknown Location    3.9   Temporary Site  "
            ],
            "text/html": [
              "\n",
              "  <div id=\"df-86919f85-d093-4f6a-9256-1ac22aeada96\" class=\"colab-df-container\">\n",
              "    <div>\n",
              "<style scoped>\n",
              "    .dataframe tbody tr th:only-of-type {\n",
              "        vertical-align: middle;\n",
              "    }\n",
              "\n",
              "    .dataframe tbody tr th {\n",
              "        vertical-align: top;\n",
              "    }\n",
              "\n",
              "    .dataframe thead th {\n",
              "        text-align: right;\n",
              "    }\n",
              "</style>\n",
              "<table border=\"1\" class=\"dataframe\">\n",
              "  <thead>\n",
              "    <tr style=\"text-align: right;\">\n",
              "      <th></th>\n",
              "      <th>START_DATE</th>\n",
              "      <th>END_DATE</th>\n",
              "      <th>CATEGORY</th>\n",
              "      <th>START</th>\n",
              "      <th>STOP</th>\n",
              "      <th>MILES</th>\n",
              "      <th>PURPOSE</th>\n",
              "    </tr>\n",
              "  </thead>\n",
              "  <tbody>\n",
              "    <tr>\n",
              "      <th>140</th>\n",
              "      <td>2/20/2016 14:50</td>\n",
              "      <td>2/20/2016 15:54</td>\n",
              "      <td>Business</td>\n",
              "      <td>R?walpindi</td>\n",
              "      <td>R?walpindi</td>\n",
              "      <td>23.1</td>\n",
              "      <td>Meeting</td>\n",
              "    </tr>\n",
              "    <tr>\n",
              "      <th>1119</th>\n",
              "      <td>12/27/2016 7:02</td>\n",
              "      <td>12/27/2016 7:14</td>\n",
              "      <td>Business</td>\n",
              "      <td>Kar?chi</td>\n",
              "      <td>Kar?chi</td>\n",
              "      <td>4.9</td>\n",
              "      <td>Temporary Site</td>\n",
              "    </tr>\n",
              "    <tr>\n",
              "      <th>1120</th>\n",
              "      <td>12/27/2016 8:37</td>\n",
              "      <td>12/27/2016 8:59</td>\n",
              "      <td>Business</td>\n",
              "      <td>Kar?chi</td>\n",
              "      <td>Kar?chi</td>\n",
              "      <td>5.0</td>\n",
              "      <td>Meal/Entertain</td>\n",
              "    </tr>\n",
              "    <tr>\n",
              "      <th>1121</th>\n",
              "      <td>12/27/2016 12:53</td>\n",
              "      <td>12/27/2016 12:57</td>\n",
              "      <td>Business</td>\n",
              "      <td>Kar?chi</td>\n",
              "      <td>Kar?chi</td>\n",
              "      <td>0.6</td>\n",
              "      <td>Meal/Entertain</td>\n",
              "    </tr>\n",
              "    <tr>\n",
              "      <th>1122</th>\n",
              "      <td>12/27/2016 14:49</td>\n",
              "      <td>12/27/2016 15:03</td>\n",
              "      <td>Business</td>\n",
              "      <td>Kar?chi</td>\n",
              "      <td>Unknown Location</td>\n",
              "      <td>3.1</td>\n",
              "      <td>Customer Visit</td>\n",
              "    </tr>\n",
              "    <tr>\n",
              "      <th>1124</th>\n",
              "      <td>12/27/2016 19:19</td>\n",
              "      <td>12/27/2016 19:50</td>\n",
              "      <td>Business</td>\n",
              "      <td>Kar?chi</td>\n",
              "      <td>Kar?chi</td>\n",
              "      <td>5.5</td>\n",
              "      <td>Customer Visit</td>\n",
              "    </tr>\n",
              "    <tr>\n",
              "      <th>1125</th>\n",
              "      <td>12/28/2016 8:34</td>\n",
              "      <td>12/28/2016 9:06</td>\n",
              "      <td>Business</td>\n",
              "      <td>Kar?chi</td>\n",
              "      <td>Unknown Location</td>\n",
              "      <td>10.3</td>\n",
              "      <td>Meal/Entertain</td>\n",
              "    </tr>\n",
              "    <tr>\n",
              "      <th>1127</th>\n",
              "      <td>12/28/2016 13:53</td>\n",
              "      <td>12/28/2016 14:01</td>\n",
              "      <td>Business</td>\n",
              "      <td>Kar?chi</td>\n",
              "      <td>Kar?chi</td>\n",
              "      <td>2.0</td>\n",
              "      <td>Errand/Supplies</td>\n",
              "    </tr>\n",
              "    <tr>\n",
              "      <th>1128</th>\n",
              "      <td>12/28/2016 15:04</td>\n",
              "      <td>12/28/2016 15:39</td>\n",
              "      <td>Business</td>\n",
              "      <td>Kar?chi</td>\n",
              "      <td>Unknown Location</td>\n",
              "      <td>8.5</td>\n",
              "      <td>Meal/Entertain</td>\n",
              "    </tr>\n",
              "    <tr>\n",
              "      <th>1130</th>\n",
              "      <td>12/28/2016 18:33</td>\n",
              "      <td>12/28/2016 18:56</td>\n",
              "      <td>Business</td>\n",
              "      <td>Kar?chi</td>\n",
              "      <td>Kar?chi</td>\n",
              "      <td>3.8</td>\n",
              "      <td>Errand/Supplies</td>\n",
              "    </tr>\n",
              "    <tr>\n",
              "      <th>1131</th>\n",
              "      <td>12/28/2016 22:44</td>\n",
              "      <td>12/28/2016 23:18</td>\n",
              "      <td>Business</td>\n",
              "      <td>Kar?chi</td>\n",
              "      <td>Kar?chi</td>\n",
              "      <td>5.1</td>\n",
              "      <td>Errand/Supplies</td>\n",
              "    </tr>\n",
              "    <tr>\n",
              "      <th>1132</th>\n",
              "      <td>12/29/2016 0:49</td>\n",
              "      <td>12/29/2016 1:06</td>\n",
              "      <td>Business</td>\n",
              "      <td>Kar?chi</td>\n",
              "      <td>Kar?chi</td>\n",
              "      <td>3.8</td>\n",
              "      <td>Errand/Supplies</td>\n",
              "    </tr>\n",
              "    <tr>\n",
              "      <th>1133</th>\n",
              "      <td>12/29/2016 9:44</td>\n",
              "      <td>12/29/2016 10:07</td>\n",
              "      <td>Business</td>\n",
              "      <td>Kar?chi</td>\n",
              "      <td>Unknown Location</td>\n",
              "      <td>11.6</td>\n",
              "      <td>Meal/Entertain</td>\n",
              "    </tr>\n",
              "    <tr>\n",
              "      <th>1135</th>\n",
              "      <td>12/29/2016 12:25</td>\n",
              "      <td>12/29/2016 12:33</td>\n",
              "      <td>Business</td>\n",
              "      <td>Kar?chi</td>\n",
              "      <td>Kar?chi</td>\n",
              "      <td>1.4</td>\n",
              "      <td>Errand/Supplies</td>\n",
              "    </tr>\n",
              "    <tr>\n",
              "      <th>1136</th>\n",
              "      <td>12/29/2016 13:17</td>\n",
              "      <td>12/29/2016 13:24</td>\n",
              "      <td>Business</td>\n",
              "      <td>Kar?chi</td>\n",
              "      <td>Kar?chi</td>\n",
              "      <td>1.1</td>\n",
              "      <td>Errand/Supplies</td>\n",
              "    </tr>\n",
              "    <tr>\n",
              "      <th>1137</th>\n",
              "      <td>12/29/2016 13:56</td>\n",
              "      <td>12/29/2016 14:11</td>\n",
              "      <td>Business</td>\n",
              "      <td>Kar?chi</td>\n",
              "      <td>Kar?chi</td>\n",
              "      <td>4.1</td>\n",
              "      <td>Airport/Travel</td>\n",
              "    </tr>\n",
              "    <tr>\n",
              "      <th>1138</th>\n",
              "      <td>12/29/2016 14:42</td>\n",
              "      <td>12/29/2016 14:58</td>\n",
              "      <td>Business</td>\n",
              "      <td>Kar?chi</td>\n",
              "      <td>Kar?chi</td>\n",
              "      <td>6.1</td>\n",
              "      <td>Between Offices</td>\n",
              "    </tr>\n",
              "    <tr>\n",
              "      <th>1139</th>\n",
              "      <td>12/29/2016 15:05</td>\n",
              "      <td>12/29/2016 15:16</td>\n",
              "      <td>Business</td>\n",
              "      <td>Kar?chi</td>\n",
              "      <td>Kar?chi</td>\n",
              "      <td>1.3</td>\n",
              "      <td>Errand/Supplies</td>\n",
              "    </tr>\n",
              "    <tr>\n",
              "      <th>1140</th>\n",
              "      <td>12/29/2016 18:59</td>\n",
              "      <td>12/29/2016 19:14</td>\n",
              "      <td>Business</td>\n",
              "      <td>Kar?chi</td>\n",
              "      <td>Unknown Location</td>\n",
              "      <td>3.0</td>\n",
              "      <td>Meal/Entertain</td>\n",
              "    </tr>\n",
              "    <tr>\n",
              "      <th>1142</th>\n",
              "      <td>12/29/2016 20:15</td>\n",
              "      <td>12/29/2016 20:45</td>\n",
              "      <td>Business</td>\n",
              "      <td>Kar?chi</td>\n",
              "      <td>Kar?chi</td>\n",
              "      <td>7.2</td>\n",
              "      <td>Meeting</td>\n",
              "    </tr>\n",
              "    <tr>\n",
              "      <th>1145</th>\n",
              "      <td>12/30/2016 10:15</td>\n",
              "      <td>12/30/2016 10:33</td>\n",
              "      <td>Business</td>\n",
              "      <td>Kar?chi</td>\n",
              "      <td>Kar?chi</td>\n",
              "      <td>2.8</td>\n",
              "      <td>Errand/Supplies</td>\n",
              "    </tr>\n",
              "    <tr>\n",
              "      <th>1146</th>\n",
              "      <td>12/30/2016 11:31</td>\n",
              "      <td>12/30/2016 11:56</td>\n",
              "      <td>Business</td>\n",
              "      <td>Kar?chi</td>\n",
              "      <td>Kar?chi</td>\n",
              "      <td>2.9</td>\n",
              "      <td>Errand/Supplies</td>\n",
              "    </tr>\n",
              "    <tr>\n",
              "      <th>1147</th>\n",
              "      <td>12/30/2016 15:41</td>\n",
              "      <td>12/30/2016 16:03</td>\n",
              "      <td>Business</td>\n",
              "      <td>Kar?chi</td>\n",
              "      <td>Kar?chi</td>\n",
              "      <td>4.6</td>\n",
              "      <td>Errand/Supplies</td>\n",
              "    </tr>\n",
              "    <tr>\n",
              "      <th>1148</th>\n",
              "      <td>12/30/2016 16:45</td>\n",
              "      <td>12/30/2016 17:08</td>\n",
              "      <td>Business</td>\n",
              "      <td>Kar?chi</td>\n",
              "      <td>Kar?chi</td>\n",
              "      <td>4.6</td>\n",
              "      <td>Meeting</td>\n",
              "    </tr>\n",
              "    <tr>\n",
              "      <th>1149</th>\n",
              "      <td>12/30/2016 23:06</td>\n",
              "      <td>12/30/2016 23:10</td>\n",
              "      <td>Business</td>\n",
              "      <td>Kar?chi</td>\n",
              "      <td>Kar?chi</td>\n",
              "      <td>0.8</td>\n",
              "      <td>Customer Visit</td>\n",
              "    </tr>\n",
              "    <tr>\n",
              "      <th>1150</th>\n",
              "      <td>12/31/2016 1:07</td>\n",
              "      <td>12/31/2016 1:14</td>\n",
              "      <td>Business</td>\n",
              "      <td>Kar?chi</td>\n",
              "      <td>Kar?chi</td>\n",
              "      <td>0.7</td>\n",
              "      <td>Meeting</td>\n",
              "    </tr>\n",
              "    <tr>\n",
              "      <th>1151</th>\n",
              "      <td>12/31/2016 13:24</td>\n",
              "      <td>12/31/2016 13:42</td>\n",
              "      <td>Business</td>\n",
              "      <td>Kar?chi</td>\n",
              "      <td>Unknown Location</td>\n",
              "      <td>3.9</td>\n",
              "      <td>Temporary Site</td>\n",
              "    </tr>\n",
              "  </tbody>\n",
              "</table>\n",
              "</div>\n",
              "    <div class=\"colab-df-buttons\">\n",
              "\n",
              "  <div class=\"colab-df-container\">\n",
              "    <button class=\"colab-df-convert\" onclick=\"convertToInteractive('df-86919f85-d093-4f6a-9256-1ac22aeada96')\"\n",
              "            title=\"Convert this dataframe to an interactive table.\"\n",
              "            style=\"display:none;\">\n",
              "\n",
              "  <svg xmlns=\"http://www.w3.org/2000/svg\" height=\"24px\" viewBox=\"0 -960 960 960\">\n",
              "    <path d=\"M120-120v-720h720v720H120Zm60-500h600v-160H180v160Zm220 220h160v-160H400v160Zm0 220h160v-160H400v160ZM180-400h160v-160H180v160Zm440 0h160v-160H620v160ZM180-180h160v-160H180v160Zm440 0h160v-160H620v160Z\"/>\n",
              "  </svg>\n",
              "    </button>\n",
              "\n",
              "  <style>\n",
              "    .colab-df-container {\n",
              "      display:flex;\n",
              "      gap: 12px;\n",
              "    }\n",
              "\n",
              "    .colab-df-convert {\n",
              "      background-color: #E8F0FE;\n",
              "      border: none;\n",
              "      border-radius: 50%;\n",
              "      cursor: pointer;\n",
              "      display: none;\n",
              "      fill: #1967D2;\n",
              "      height: 32px;\n",
              "      padding: 0 0 0 0;\n",
              "      width: 32px;\n",
              "    }\n",
              "\n",
              "    .colab-df-convert:hover {\n",
              "      background-color: #E2EBFA;\n",
              "      box-shadow: 0px 1px 2px rgba(60, 64, 67, 0.3), 0px 1px 3px 1px rgba(60, 64, 67, 0.15);\n",
              "      fill: #174EA6;\n",
              "    }\n",
              "\n",
              "    .colab-df-buttons div {\n",
              "      margin-bottom: 4px;\n",
              "    }\n",
              "\n",
              "    [theme=dark] .colab-df-convert {\n",
              "      background-color: #3B4455;\n",
              "      fill: #D2E3FC;\n",
              "    }\n",
              "\n",
              "    [theme=dark] .colab-df-convert:hover {\n",
              "      background-color: #434B5C;\n",
              "      box-shadow: 0px 1px 3px 1px rgba(0, 0, 0, 0.15);\n",
              "      filter: drop-shadow(0px 1px 2px rgba(0, 0, 0, 0.3));\n",
              "      fill: #FFFFFF;\n",
              "    }\n",
              "  </style>\n",
              "\n",
              "    <script>\n",
              "      const buttonEl =\n",
              "        document.querySelector('#df-86919f85-d093-4f6a-9256-1ac22aeada96 button.colab-df-convert');\n",
              "      buttonEl.style.display =\n",
              "        google.colab.kernel.accessAllowed ? 'block' : 'none';\n",
              "\n",
              "      async function convertToInteractive(key) {\n",
              "        const element = document.querySelector('#df-86919f85-d093-4f6a-9256-1ac22aeada96');\n",
              "        const dataTable =\n",
              "          await google.colab.kernel.invokeFunction('convertToInteractive',\n",
              "                                                    [key], {});\n",
              "        if (!dataTable) return;\n",
              "\n",
              "        const docLinkHtml = 'Like what you see? Visit the ' +\n",
              "          '<a target=\"_blank\" href=https://colab.research.google.com/notebooks/data_table.ipynb>data table notebook</a>'\n",
              "          + ' to learn more about interactive tables.';\n",
              "        element.innerHTML = '';\n",
              "        dataTable['output_type'] = 'display_data';\n",
              "        await google.colab.output.renderOutput(dataTable, element);\n",
              "        const docLink = document.createElement('div');\n",
              "        docLink.innerHTML = docLinkHtml;\n",
              "        element.appendChild(docLink);\n",
              "      }\n",
              "    </script>\n",
              "  </div>\n",
              "\n",
              "\n",
              "<div id=\"df-80358555-dae5-457b-a576-b3a865c895cd\">\n",
              "  <button class=\"colab-df-quickchart\" onclick=\"quickchart('df-80358555-dae5-457b-a576-b3a865c895cd')\"\n",
              "            title=\"Suggest charts\"\n",
              "            style=\"display:none;\">\n",
              "\n",
              "<svg xmlns=\"http://www.w3.org/2000/svg\" height=\"24px\"viewBox=\"0 0 24 24\"\n",
              "     width=\"24px\">\n",
              "    <g>\n",
              "        <path d=\"M19 3H5c-1.1 0-2 .9-2 2v14c0 1.1.9 2 2 2h14c1.1 0 2-.9 2-2V5c0-1.1-.9-2-2-2zM9 17H7v-7h2v7zm4 0h-2V7h2v10zm4 0h-2v-4h2v4z\"/>\n",
              "    </g>\n",
              "</svg>\n",
              "  </button>\n",
              "\n",
              "<style>\n",
              "  .colab-df-quickchart {\n",
              "      --bg-color: #E8F0FE;\n",
              "      --fill-color: #1967D2;\n",
              "      --hover-bg-color: #E2EBFA;\n",
              "      --hover-fill-color: #174EA6;\n",
              "      --disabled-fill-color: #AAA;\n",
              "      --disabled-bg-color: #DDD;\n",
              "  }\n",
              "\n",
              "  [theme=dark] .colab-df-quickchart {\n",
              "      --bg-color: #3B4455;\n",
              "      --fill-color: #D2E3FC;\n",
              "      --hover-bg-color: #434B5C;\n",
              "      --hover-fill-color: #FFFFFF;\n",
              "      --disabled-bg-color: #3B4455;\n",
              "      --disabled-fill-color: #666;\n",
              "  }\n",
              "\n",
              "  .colab-df-quickchart {\n",
              "    background-color: var(--bg-color);\n",
              "    border: none;\n",
              "    border-radius: 50%;\n",
              "    cursor: pointer;\n",
              "    display: none;\n",
              "    fill: var(--fill-color);\n",
              "    height: 32px;\n",
              "    padding: 0;\n",
              "    width: 32px;\n",
              "  }\n",
              "\n",
              "  .colab-df-quickchart:hover {\n",
              "    background-color: var(--hover-bg-color);\n",
              "    box-shadow: 0 1px 2px rgba(60, 64, 67, 0.3), 0 1px 3px 1px rgba(60, 64, 67, 0.15);\n",
              "    fill: var(--button-hover-fill-color);\n",
              "  }\n",
              "\n",
              "  .colab-df-quickchart-complete:disabled,\n",
              "  .colab-df-quickchart-complete:disabled:hover {\n",
              "    background-color: var(--disabled-bg-color);\n",
              "    fill: var(--disabled-fill-color);\n",
              "    box-shadow: none;\n",
              "  }\n",
              "\n",
              "  .colab-df-spinner {\n",
              "    border: 2px solid var(--fill-color);\n",
              "    border-color: transparent;\n",
              "    border-bottom-color: var(--fill-color);\n",
              "    animation:\n",
              "      spin 1s steps(1) infinite;\n",
              "  }\n",
              "\n",
              "  @keyframes spin {\n",
              "    0% {\n",
              "      border-color: transparent;\n",
              "      border-bottom-color: var(--fill-color);\n",
              "      border-left-color: var(--fill-color);\n",
              "    }\n",
              "    20% {\n",
              "      border-color: transparent;\n",
              "      border-left-color: var(--fill-color);\n",
              "      border-top-color: var(--fill-color);\n",
              "    }\n",
              "    30% {\n",
              "      border-color: transparent;\n",
              "      border-left-color: var(--fill-color);\n",
              "      border-top-color: var(--fill-color);\n",
              "      border-right-color: var(--fill-color);\n",
              "    }\n",
              "    40% {\n",
              "      border-color: transparent;\n",
              "      border-right-color: var(--fill-color);\n",
              "      border-top-color: var(--fill-color);\n",
              "    }\n",
              "    60% {\n",
              "      border-color: transparent;\n",
              "      border-right-color: var(--fill-color);\n",
              "    }\n",
              "    80% {\n",
              "      border-color: transparent;\n",
              "      border-right-color: var(--fill-color);\n",
              "      border-bottom-color: var(--fill-color);\n",
              "    }\n",
              "    90% {\n",
              "      border-color: transparent;\n",
              "      border-bottom-color: var(--fill-color);\n",
              "    }\n",
              "  }\n",
              "</style>\n",
              "\n",
              "  <script>\n",
              "    async function quickchart(key) {\n",
              "      const quickchartButtonEl =\n",
              "        document.querySelector('#' + key + ' button');\n",
              "      quickchartButtonEl.disabled = true;  // To prevent multiple clicks.\n",
              "      quickchartButtonEl.classList.add('colab-df-spinner');\n",
              "      try {\n",
              "        const charts = await google.colab.kernel.invokeFunction(\n",
              "            'suggestCharts', [key], {});\n",
              "      } catch (error) {\n",
              "        console.error('Error during call to suggestCharts:', error);\n",
              "      }\n",
              "      quickchartButtonEl.classList.remove('colab-df-spinner');\n",
              "      quickchartButtonEl.classList.add('colab-df-quickchart-complete');\n",
              "    }\n",
              "    (() => {\n",
              "      let quickchartButtonEl =\n",
              "        document.querySelector('#df-80358555-dae5-457b-a576-b3a865c895cd button');\n",
              "      quickchartButtonEl.style.display =\n",
              "        google.colab.kernel.accessAllowed ? 'block' : 'none';\n",
              "    })();\n",
              "  </script>\n",
              "</div>\n",
              "\n",
              "    </div>\n",
              "  </div>\n"
            ],
            "application/vnd.google.colaboratory.intrinsic+json": {
              "type": "dataframe",
              "repr_error": "0"
            }
          },
          "metadata": {},
          "execution_count": 6
        }
      ]
    },
    {
      "cell_type": "code",
      "source": [
        "uber_data['START'] = uber_data['START'].replace({\"\\?\":\"a\"}, regex = True)\n",
        "uber_data[\"STOP\"] = uber_data[\"STOP\"].replace({\"\\?\":\"a\"}, regex = True)"
      ],
      "metadata": {
        "id": "HPbyDeRgpj71"
      },
      "execution_count": 7,
      "outputs": []
    },
    {
      "cell_type": "code",
      "source": [
        "#make string as datetime to identify individual easily\n",
        "\n",
        "uber_data['START_DATE'] = pd.to_datetime(uber_data['START_DATE'], format=\"%m/%d/%Y %H:%M\")\n",
        "uber_data['END_DATE'] = pd.to_datetime(uber_data['END_DATE'], format=\"%m/%d/%Y %H:%M\")\n",
        "\n",
        "uber_data['HOUR'] =  [x.hour for x in uber_data['START_DATE']]\n",
        "uber_data['DAY'] =  [x.day for x in uber_data['START_DATE']]\n",
        "uber_data['MONTH'] =  [x.month for x in uber_data['START_DATE']]\n",
        "uber_data['WEEKDAY'] =  [calendar.day_name[x.dayofweek] for x in uber_data['START_DATE']]\n",
        "uber_data['DAY_OF_WEEK'] =  [x.dayofweek for x in uber_data['START_DATE']]"
      ],
      "metadata": {
        "id": "wqXYJrQWpoKq"
      },
      "execution_count": 8,
      "outputs": []
    },
    {
      "cell_type": "code",
      "source": [
        "uber_data.head()"
      ],
      "metadata": {
        "colab": {
          "base_uri": "https://localhost:8080/",
          "height": 206
        },
        "id": "m72hpUMgpyKP",
        "outputId": "cda946de-301d-4b28-a14d-0ae5244dde25"
      },
      "execution_count": 9,
      "outputs": [
        {
          "output_type": "execute_result",
          "data": {
            "text/plain": [
              "           START_DATE            END_DATE  CATEGORY            START  \\\n",
              "0 2016-01-01 21:11:00 2016-01-01 21:17:00  Business      Fort Pierce   \n",
              "2 2016-01-02 20:25:00 2016-01-02 20:38:00  Business      Fort Pierce   \n",
              "3 2016-01-05 17:31:00 2016-01-05 17:45:00  Business      Fort Pierce   \n",
              "4 2016-01-06 14:42:00 2016-01-06 15:49:00  Business      Fort Pierce   \n",
              "5 2016-01-06 17:15:00 2016-01-06 17:19:00  Business  West Palm Beach   \n",
              "\n",
              "              STOP  MILES          PURPOSE  HOUR  DAY  MONTH    WEEKDAY  \\\n",
              "0      Fort Pierce    5.1   Meal/Entertain    21    1      1     Friday   \n",
              "2      Fort Pierce    4.8  Errand/Supplies    20    2      1   Saturday   \n",
              "3      Fort Pierce    4.7          Meeting    17    5      1    Tuesday   \n",
              "4  West Palm Beach   63.7   Customer Visit    14    6      1  Wednesday   \n",
              "5  West Palm Beach    4.3   Meal/Entertain    17    6      1  Wednesday   \n",
              "\n",
              "   DAY_OF_WEEK  \n",
              "0            4  \n",
              "2            5  \n",
              "3            1  \n",
              "4            2  \n",
              "5            2  "
            ],
            "text/html": [
              "\n",
              "  <div id=\"df-48f613cd-11ce-4a31-8852-75b39f5e0dfd\" class=\"colab-df-container\">\n",
              "    <div>\n",
              "<style scoped>\n",
              "    .dataframe tbody tr th:only-of-type {\n",
              "        vertical-align: middle;\n",
              "    }\n",
              "\n",
              "    .dataframe tbody tr th {\n",
              "        vertical-align: top;\n",
              "    }\n",
              "\n",
              "    .dataframe thead th {\n",
              "        text-align: right;\n",
              "    }\n",
              "</style>\n",
              "<table border=\"1\" class=\"dataframe\">\n",
              "  <thead>\n",
              "    <tr style=\"text-align: right;\">\n",
              "      <th></th>\n",
              "      <th>START_DATE</th>\n",
              "      <th>END_DATE</th>\n",
              "      <th>CATEGORY</th>\n",
              "      <th>START</th>\n",
              "      <th>STOP</th>\n",
              "      <th>MILES</th>\n",
              "      <th>PURPOSE</th>\n",
              "      <th>HOUR</th>\n",
              "      <th>DAY</th>\n",
              "      <th>MONTH</th>\n",
              "      <th>WEEKDAY</th>\n",
              "      <th>DAY_OF_WEEK</th>\n",
              "    </tr>\n",
              "  </thead>\n",
              "  <tbody>\n",
              "    <tr>\n",
              "      <th>0</th>\n",
              "      <td>2016-01-01 21:11:00</td>\n",
              "      <td>2016-01-01 21:17:00</td>\n",
              "      <td>Business</td>\n",
              "      <td>Fort Pierce</td>\n",
              "      <td>Fort Pierce</td>\n",
              "      <td>5.1</td>\n",
              "      <td>Meal/Entertain</td>\n",
              "      <td>21</td>\n",
              "      <td>1</td>\n",
              "      <td>1</td>\n",
              "      <td>Friday</td>\n",
              "      <td>4</td>\n",
              "    </tr>\n",
              "    <tr>\n",
              "      <th>2</th>\n",
              "      <td>2016-01-02 20:25:00</td>\n",
              "      <td>2016-01-02 20:38:00</td>\n",
              "      <td>Business</td>\n",
              "      <td>Fort Pierce</td>\n",
              "      <td>Fort Pierce</td>\n",
              "      <td>4.8</td>\n",
              "      <td>Errand/Supplies</td>\n",
              "      <td>20</td>\n",
              "      <td>2</td>\n",
              "      <td>1</td>\n",
              "      <td>Saturday</td>\n",
              "      <td>5</td>\n",
              "    </tr>\n",
              "    <tr>\n",
              "      <th>3</th>\n",
              "      <td>2016-01-05 17:31:00</td>\n",
              "      <td>2016-01-05 17:45:00</td>\n",
              "      <td>Business</td>\n",
              "      <td>Fort Pierce</td>\n",
              "      <td>Fort Pierce</td>\n",
              "      <td>4.7</td>\n",
              "      <td>Meeting</td>\n",
              "      <td>17</td>\n",
              "      <td>5</td>\n",
              "      <td>1</td>\n",
              "      <td>Tuesday</td>\n",
              "      <td>1</td>\n",
              "    </tr>\n",
              "    <tr>\n",
              "      <th>4</th>\n",
              "      <td>2016-01-06 14:42:00</td>\n",
              "      <td>2016-01-06 15:49:00</td>\n",
              "      <td>Business</td>\n",
              "      <td>Fort Pierce</td>\n",
              "      <td>West Palm Beach</td>\n",
              "      <td>63.7</td>\n",
              "      <td>Customer Visit</td>\n",
              "      <td>14</td>\n",
              "      <td>6</td>\n",
              "      <td>1</td>\n",
              "      <td>Wednesday</td>\n",
              "      <td>2</td>\n",
              "    </tr>\n",
              "    <tr>\n",
              "      <th>5</th>\n",
              "      <td>2016-01-06 17:15:00</td>\n",
              "      <td>2016-01-06 17:19:00</td>\n",
              "      <td>Business</td>\n",
              "      <td>West Palm Beach</td>\n",
              "      <td>West Palm Beach</td>\n",
              "      <td>4.3</td>\n",
              "      <td>Meal/Entertain</td>\n",
              "      <td>17</td>\n",
              "      <td>6</td>\n",
              "      <td>1</td>\n",
              "      <td>Wednesday</td>\n",
              "      <td>2</td>\n",
              "    </tr>\n",
              "  </tbody>\n",
              "</table>\n",
              "</div>\n",
              "    <div class=\"colab-df-buttons\">\n",
              "\n",
              "  <div class=\"colab-df-container\">\n",
              "    <button class=\"colab-df-convert\" onclick=\"convertToInteractive('df-48f613cd-11ce-4a31-8852-75b39f5e0dfd')\"\n",
              "            title=\"Convert this dataframe to an interactive table.\"\n",
              "            style=\"display:none;\">\n",
              "\n",
              "  <svg xmlns=\"http://www.w3.org/2000/svg\" height=\"24px\" viewBox=\"0 -960 960 960\">\n",
              "    <path d=\"M120-120v-720h720v720H120Zm60-500h600v-160H180v160Zm220 220h160v-160H400v160Zm0 220h160v-160H400v160ZM180-400h160v-160H180v160Zm440 0h160v-160H620v160ZM180-180h160v-160H180v160Zm440 0h160v-160H620v160Z\"/>\n",
              "  </svg>\n",
              "    </button>\n",
              "\n",
              "  <style>\n",
              "    .colab-df-container {\n",
              "      display:flex;\n",
              "      gap: 12px;\n",
              "    }\n",
              "\n",
              "    .colab-df-convert {\n",
              "      background-color: #E8F0FE;\n",
              "      border: none;\n",
              "      border-radius: 50%;\n",
              "      cursor: pointer;\n",
              "      display: none;\n",
              "      fill: #1967D2;\n",
              "      height: 32px;\n",
              "      padding: 0 0 0 0;\n",
              "      width: 32px;\n",
              "    }\n",
              "\n",
              "    .colab-df-convert:hover {\n",
              "      background-color: #E2EBFA;\n",
              "      box-shadow: 0px 1px 2px rgba(60, 64, 67, 0.3), 0px 1px 3px 1px rgba(60, 64, 67, 0.15);\n",
              "      fill: #174EA6;\n",
              "    }\n",
              "\n",
              "    .colab-df-buttons div {\n",
              "      margin-bottom: 4px;\n",
              "    }\n",
              "\n",
              "    [theme=dark] .colab-df-convert {\n",
              "      background-color: #3B4455;\n",
              "      fill: #D2E3FC;\n",
              "    }\n",
              "\n",
              "    [theme=dark] .colab-df-convert:hover {\n",
              "      background-color: #434B5C;\n",
              "      box-shadow: 0px 1px 3px 1px rgba(0, 0, 0, 0.15);\n",
              "      filter: drop-shadow(0px 1px 2px rgba(0, 0, 0, 0.3));\n",
              "      fill: #FFFFFF;\n",
              "    }\n",
              "  </style>\n",
              "\n",
              "    <script>\n",
              "      const buttonEl =\n",
              "        document.querySelector('#df-48f613cd-11ce-4a31-8852-75b39f5e0dfd button.colab-df-convert');\n",
              "      buttonEl.style.display =\n",
              "        google.colab.kernel.accessAllowed ? 'block' : 'none';\n",
              "\n",
              "      async function convertToInteractive(key) {\n",
              "        const element = document.querySelector('#df-48f613cd-11ce-4a31-8852-75b39f5e0dfd');\n",
              "        const dataTable =\n",
              "          await google.colab.kernel.invokeFunction('convertToInteractive',\n",
              "                                                    [key], {});\n",
              "        if (!dataTable) return;\n",
              "\n",
              "        const docLinkHtml = 'Like what you see? Visit the ' +\n",
              "          '<a target=\"_blank\" href=https://colab.research.google.com/notebooks/data_table.ipynb>data table notebook</a>'\n",
              "          + ' to learn more about interactive tables.';\n",
              "        element.innerHTML = '';\n",
              "        dataTable['output_type'] = 'display_data';\n",
              "        await google.colab.output.renderOutput(dataTable, element);\n",
              "        const docLink = document.createElement('div');\n",
              "        docLink.innerHTML = docLinkHtml;\n",
              "        element.appendChild(docLink);\n",
              "      }\n",
              "    </script>\n",
              "  </div>\n",
              "\n",
              "\n",
              "<div id=\"df-cd083e1b-cb06-4750-9e65-ddd2e8ada46e\">\n",
              "  <button class=\"colab-df-quickchart\" onclick=\"quickchart('df-cd083e1b-cb06-4750-9e65-ddd2e8ada46e')\"\n",
              "            title=\"Suggest charts\"\n",
              "            style=\"display:none;\">\n",
              "\n",
              "<svg xmlns=\"http://www.w3.org/2000/svg\" height=\"24px\"viewBox=\"0 0 24 24\"\n",
              "     width=\"24px\">\n",
              "    <g>\n",
              "        <path d=\"M19 3H5c-1.1 0-2 .9-2 2v14c0 1.1.9 2 2 2h14c1.1 0 2-.9 2-2V5c0-1.1-.9-2-2-2zM9 17H7v-7h2v7zm4 0h-2V7h2v10zm4 0h-2v-4h2v4z\"/>\n",
              "    </g>\n",
              "</svg>\n",
              "  </button>\n",
              "\n",
              "<style>\n",
              "  .colab-df-quickchart {\n",
              "      --bg-color: #E8F0FE;\n",
              "      --fill-color: #1967D2;\n",
              "      --hover-bg-color: #E2EBFA;\n",
              "      --hover-fill-color: #174EA6;\n",
              "      --disabled-fill-color: #AAA;\n",
              "      --disabled-bg-color: #DDD;\n",
              "  }\n",
              "\n",
              "  [theme=dark] .colab-df-quickchart {\n",
              "      --bg-color: #3B4455;\n",
              "      --fill-color: #D2E3FC;\n",
              "      --hover-bg-color: #434B5C;\n",
              "      --hover-fill-color: #FFFFFF;\n",
              "      --disabled-bg-color: #3B4455;\n",
              "      --disabled-fill-color: #666;\n",
              "  }\n",
              "\n",
              "  .colab-df-quickchart {\n",
              "    background-color: var(--bg-color);\n",
              "    border: none;\n",
              "    border-radius: 50%;\n",
              "    cursor: pointer;\n",
              "    display: none;\n",
              "    fill: var(--fill-color);\n",
              "    height: 32px;\n",
              "    padding: 0;\n",
              "    width: 32px;\n",
              "  }\n",
              "\n",
              "  .colab-df-quickchart:hover {\n",
              "    background-color: var(--hover-bg-color);\n",
              "    box-shadow: 0 1px 2px rgba(60, 64, 67, 0.3), 0 1px 3px 1px rgba(60, 64, 67, 0.15);\n",
              "    fill: var(--button-hover-fill-color);\n",
              "  }\n",
              "\n",
              "  .colab-df-quickchart-complete:disabled,\n",
              "  .colab-df-quickchart-complete:disabled:hover {\n",
              "    background-color: var(--disabled-bg-color);\n",
              "    fill: var(--disabled-fill-color);\n",
              "    box-shadow: none;\n",
              "  }\n",
              "\n",
              "  .colab-df-spinner {\n",
              "    border: 2px solid var(--fill-color);\n",
              "    border-color: transparent;\n",
              "    border-bottom-color: var(--fill-color);\n",
              "    animation:\n",
              "      spin 1s steps(1) infinite;\n",
              "  }\n",
              "\n",
              "  @keyframes spin {\n",
              "    0% {\n",
              "      border-color: transparent;\n",
              "      border-bottom-color: var(--fill-color);\n",
              "      border-left-color: var(--fill-color);\n",
              "    }\n",
              "    20% {\n",
              "      border-color: transparent;\n",
              "      border-left-color: var(--fill-color);\n",
              "      border-top-color: var(--fill-color);\n",
              "    }\n",
              "    30% {\n",
              "      border-color: transparent;\n",
              "      border-left-color: var(--fill-color);\n",
              "      border-top-color: var(--fill-color);\n",
              "      border-right-color: var(--fill-color);\n",
              "    }\n",
              "    40% {\n",
              "      border-color: transparent;\n",
              "      border-right-color: var(--fill-color);\n",
              "      border-top-color: var(--fill-color);\n",
              "    }\n",
              "    60% {\n",
              "      border-color: transparent;\n",
              "      border-right-color: var(--fill-color);\n",
              "    }\n",
              "    80% {\n",
              "      border-color: transparent;\n",
              "      border-right-color: var(--fill-color);\n",
              "      border-bottom-color: var(--fill-color);\n",
              "    }\n",
              "    90% {\n",
              "      border-color: transparent;\n",
              "      border-bottom-color: var(--fill-color);\n",
              "    }\n",
              "  }\n",
              "</style>\n",
              "\n",
              "  <script>\n",
              "    async function quickchart(key) {\n",
              "      const quickchartButtonEl =\n",
              "        document.querySelector('#' + key + ' button');\n",
              "      quickchartButtonEl.disabled = true;  // To prevent multiple clicks.\n",
              "      quickchartButtonEl.classList.add('colab-df-spinner');\n",
              "      try {\n",
              "        const charts = await google.colab.kernel.invokeFunction(\n",
              "            'suggestCharts', [key], {});\n",
              "      } catch (error) {\n",
              "        console.error('Error during call to suggestCharts:', error);\n",
              "      }\n",
              "      quickchartButtonEl.classList.remove('colab-df-spinner');\n",
              "      quickchartButtonEl.classList.add('colab-df-quickchart-complete');\n",
              "    }\n",
              "    (() => {\n",
              "      let quickchartButtonEl =\n",
              "        document.querySelector('#df-cd083e1b-cb06-4750-9e65-ddd2e8ada46e button');\n",
              "      quickchartButtonEl.style.display =\n",
              "        google.colab.kernel.accessAllowed ? 'block' : 'none';\n",
              "    })();\n",
              "  </script>\n",
              "</div>\n",
              "\n",
              "    </div>\n",
              "  </div>\n"
            ],
            "application/vnd.google.colaboratory.intrinsic+json": {
              "type": "dataframe",
              "variable_name": "uber_data",
              "summary": "{\n  \"name\": \"uber_data\",\n  \"rows\": 653,\n  \"fields\": [\n    {\n      \"column\": \"START_DATE\",\n      \"properties\": {\n        \"dtype\": \"date\",\n        \"min\": \"2016-01-01 21:11:00\",\n        \"max\": \"2016-12-31 22:08:00\",\n        \"num_unique_values\": 652,\n        \"samples\": [\n          \"2016-12-29 19:50:00\",\n          \"2016-05-01 22:38:00\",\n          \"2016-04-29 22:44:00\"\n        ],\n        \"semantic_type\": \"\",\n        \"description\": \"\"\n      }\n    },\n    {\n      \"column\": \"END_DATE\",\n      \"properties\": {\n        \"dtype\": \"date\",\n        \"min\": \"2016-01-01 21:17:00\",\n        \"max\": \"2016-12-31 23:51:00\",\n        \"num_unique_values\": 652,\n        \"samples\": [\n          \"2016-12-29 20:10:00\",\n          \"2016-05-01 22:49:00\",\n          \"2016-04-29 23:19:00\"\n        ],\n        \"semantic_type\": \"\",\n        \"description\": \"\"\n      }\n    },\n    {\n      \"column\": \"CATEGORY\",\n      \"properties\": {\n        \"dtype\": \"category\",\n        \"num_unique_values\": 2,\n        \"samples\": [\n          \"Personal\",\n          \"Business\"\n        ],\n        \"semantic_type\": \"\",\n        \"description\": \"\"\n      }\n    },\n    {\n      \"column\": \"START\",\n      \"properties\": {\n        \"dtype\": \"category\",\n        \"num_unique_values\": 130,\n        \"samples\": [\n          \"Sharpstown\",\n          \"Noorpur Shahan\"\n        ],\n        \"semantic_type\": \"\",\n        \"description\": \"\"\n      }\n    },\n    {\n      \"column\": \"STOP\",\n      \"properties\": {\n        \"dtype\": \"category\",\n        \"num_unique_values\": 136,\n        \"samples\": [\n          \"Holly Springs\",\n          \"Waverly Place\"\n        ],\n        \"semantic_type\": \"\",\n        \"description\": \"\"\n      }\n    },\n    {\n      \"column\": \"MILES\",\n      \"properties\": {\n        \"dtype\": \"number\",\n        \"std\": 22.986428750819957,\n        \"min\": 0.5,\n        \"max\": 310.3,\n        \"num_unique_values\": 205,\n        \"samples\": [\n          1.9,\n          10.8\n        ],\n        \"semantic_type\": \"\",\n        \"description\": \"\"\n      }\n    },\n    {\n      \"column\": \"PURPOSE\",\n      \"properties\": {\n        \"dtype\": \"category\",\n        \"num_unique_values\": 10,\n        \"samples\": [\n          \"Moving\",\n          \"Errand/Supplies\"\n        ],\n        \"semantic_type\": \"\",\n        \"description\": \"\"\n      }\n    },\n    {\n      \"column\": \"HOUR\",\n      \"properties\": {\n        \"dtype\": \"number\",\n        \"std\": 4,\n        \"min\": 0,\n        \"max\": 23,\n        \"num_unique_values\": 23,\n        \"samples\": [\n          3,\n          19\n        ],\n        \"semantic_type\": \"\",\n        \"description\": \"\"\n      }\n    },\n    {\n      \"column\": \"DAY\",\n      \"properties\": {\n        \"dtype\": \"number\",\n        \"std\": 8,\n        \"min\": 1,\n        \"max\": 31,\n        \"num_unique_values\": 31,\n        \"samples\": [\n          25,\n          26\n        ],\n        \"semantic_type\": \"\",\n        \"description\": \"\"\n      }\n    },\n    {\n      \"column\": \"MONTH\",\n      \"properties\": {\n        \"dtype\": \"number\",\n        \"std\": 3,\n        \"min\": 1,\n        \"max\": 12,\n        \"num_unique_values\": 11,\n        \"samples\": [\n          6,\n          1\n        ],\n        \"semantic_type\": \"\",\n        \"description\": \"\"\n      }\n    },\n    {\n      \"column\": \"WEEKDAY\",\n      \"properties\": {\n        \"dtype\": \"category\",\n        \"num_unique_values\": 7,\n        \"samples\": [\n          \"Friday\",\n          \"Saturday\"\n        ],\n        \"semantic_type\": \"\",\n        \"description\": \"\"\n      }\n    },\n    {\n      \"column\": \"DAY_OF_WEEK\",\n      \"properties\": {\n        \"dtype\": \"number\",\n        \"std\": 1,\n        \"min\": 0,\n        \"max\": 6,\n        \"num_unique_values\": 7,\n        \"samples\": [\n          4,\n          5\n        ],\n        \"semantic_type\": \"\",\n        \"description\": \"\"\n      }\n    }\n  ]\n}"
            }
          },
          "metadata": {},
          "execution_count": 9
        }
      ]
    },
    {
      "cell_type": "markdown",
      "source": [
        "Analysis"
      ],
      "metadata": {
        "id": "ZM9sLw0SKk6J"
      }
    },
    {
      "cell_type": "code",
      "source": [
        "sns . countplot(x= 'CATEGORY' ,data=uber_data)"
      ],
      "metadata": {
        "colab": {
          "base_uri": "https://localhost:8080/",
          "height": 466
        },
        "id": "Si5ZShR-p2dP",
        "outputId": "c79767ce-c99d-4af3-f6ee-b8a6566c10cb"
      },
      "execution_count": 10,
      "outputs": [
        {
          "output_type": "execute_result",
          "data": {
            "text/plain": [
              "<Axes: xlabel='CATEGORY', ylabel='count'>"
            ]
          },
          "metadata": {},
          "execution_count": 10
        },
        {
          "output_type": "display_data",
          "data": {
            "text/plain": [
              "<Figure size 640x480 with 1 Axes>"
            ],
            "image/png": "[encoded data removed]"
          },
          "metadata": {}
        }
      ]
    },
    {
      "cell_type": "code",
      "source": [
        "sns . countplot(y= 'PURPOSE' ,data=uber_data)"
      ],
      "metadata": {
        "colab": {
          "base_uri": "https://localhost:8080/",
          "height": 466
        },
        "id": "GIF8ebGbp7qZ",
        "outputId": "4742e698-12e6-472c-dc0b-43e8182ba8fd"
      },
      "execution_count": 11,
      "outputs": [
        {
          "output_type": "execute_result",
          "data": {
            "text/plain": [
              "<Axes: xlabel='count', ylabel='PURPOSE'>"
            ]
          },
          "metadata": {},
          "execution_count": 11
        },
        {
          "output_type": "display_data",
          "data": {
            "text/plain": [
              "<Figure size 640x480 with 1 Axes>"
            ],
            "image/png": "[encoded data removed]"
          },
          "metadata": {}
        }
      ]
    },
    {
      "cell_type": "code",
      "source": [
        "uber_data[ 'MILES' ].plot.hist()\n",
        "\n",
        "plt.xlabel(\"Miles Range\")\n",
        "plt.ylabel(\"Number of Trips\")\n",
        "\n",
        "# setting y_label as price\n",
        "plt.title(\"Number of Trips by Miles\")\n",
        "plt.show()"
      ],
      "metadata": {
        "colab": {
          "base_uri": "https://localhost:8080/",
          "height": 472
        },
        "id": "6LCKFEt_qweb",
        "outputId": "b282d1d8-89ad-45fa-edd8-ea9a881bb0ff"
      },
      "execution_count": 12,
      "outputs": [
        {
          "output_type": "display_data",
          "data": {
            "text/plain": [
              "<Figure size 640x480 with 1 Axes>"
            ],
            "image/png": "[encoded data removed]"
          },
          "metadata": {}
        }
      ]
    },
    {
      "cell_type": "code",
      "source": [
        "hours = uber_data['HOUR'].value_counts()\n",
        "hours.plot(kind= 'bar', color= 'red', figsize= (10,5))\n",
        "plt.xlabel( 'Hours' )\n",
        "plt.ylabel( 'Number of Trips' )\n",
        "plt.title( 'Number of trips Vs hours')"
      ],
      "metadata": {
        "colab": {
          "base_uri": "https://localhost:8080/",
          "height": 508
        },
        "id": "x9hh_ctdtGBk",
        "outputId": "dff88bad-c9a2-4361-91f9-22f72e06711c"
      },
      "execution_count": 13,
      "outputs": [
        {
          "output_type": "execute_result",
          "data": {
            "text/plain": [
              "Text(0.5, 1.0, 'Number of trips Vs hours')"
            ]
          },
          "metadata": {},
          "execution_count": 13
        },
        {
          "output_type": "display_data",
          "data": {
            "text/plain": [
              "<Figure size 1000x500 with 1 Axes>"
            ],
            "image/png": "[encoded data removed]"
          },
          "metadata": {}
        }
      ]
    },
    {
      "cell_type": "code",
      "source": [
        "days = uber_data[ 'WEEKDAY' ].value_counts()\n",
        "days.plot(kind='barh', color= 'seagreen', figsize=(10, 5) )\n",
        "plt.xlabel('Number of Trips')\n",
        "plt.ylabel('Days' )\n",
        "plt.title( 'Number of trips Vs days')"
      ],
      "metadata": {
        "colab": {
          "base_uri": "https://localhost:8080/",
          "height": 504
        },
        "id": "-N_WzFW7tN94",
        "outputId": "e539ce80-5697-4abc-af3e-89d5487aaaaa"
      },
      "execution_count": 14,
      "outputs": [
        {
          "output_type": "execute_result",
          "data": {
            "text/plain": [
              "Text(0.5, 1.0, 'Number of trips Vs days')"
            ]
          },
          "metadata": {},
          "execution_count": 14
        },
        {
          "output_type": "display_data",
          "data": {
            "text/plain": [
              "<Figure size 1000x500 with 1 Axes>"
            ],
            "image/png": "[encoded data removed]"
          },
          "metadata": {}
        }
      ]
    },
    {
      "cell_type": "code",
      "source": [
        "months = uber_data[ 'MONTH' ].value_counts()\n",
        "months.plot(kind='barh', color= 'blue', figsize=(10, 5) )\n",
        "plt.xlabel('Number of Trips')\n",
        "plt.ylabel('Months' )\n",
        "plt.title( 'Number of trips Vs Months')"
      ],
      "metadata": {
        "colab": {
          "base_uri": "https://localhost:8080/",
          "height": 504
        },
        "id": "zj8BxXxttRmi",
        "outputId": "e651b02a-b499-4c63-9b7b-e8ec1f010201"
      },
      "execution_count": 15,
      "outputs": [
        {
          "output_type": "execute_result",
          "data": {
            "text/plain": [
              "Text(0.5, 1.0, 'Number of trips Vs Months')"
            ]
          },
          "metadata": {},
          "execution_count": 15
        },
        {
          "output_type": "display_data",
          "data": {
            "text/plain": [
              "<Figure size 1000x500 with 1 Axes>"
            ],
            "image/png": "[encoded data removed]"
          },
          "metadata": {}
        }
      ]
    },
    {
      "cell_type": "code",
      "source": [
        "months = uber_data[ 'DAY' ][uber_data['MONTH']==12].value_counts()\n",
        "months.plot(kind='bar', color= 'darkgray', figsize=(10, 5) )\n",
        "plt.xlabel('Days of December')\n",
        "plt.ylabel('Number of Trips' )\n",
        "plt.title( 'Number of trips Vs days of december')"
      ],
      "metadata": {
        "colab": {
          "base_uri": "https://localhost:8080/",
          "height": 508
        },
        "id": "q_8bKMENt8eG",
        "outputId": "11c5ba11-05db-42f6-8f17-f0517fd690fe"
      },
      "execution_count": 17,
      "outputs": [
        {
          "output_type": "execute_result",
          "data": {
            "text/plain": [
              "Text(0.5, 1.0, 'Number of trips Vs days of december')"
            ]
          },
          "metadata": {},
          "execution_count": 17
        },
        {
          "output_type": "display_data",
          "data": {
            "text/plain": [
              "<Figure size 1000x500 with 1 Axes>"
            ],
            "image/png": "[encoded data removed]"
          },
          "metadata": {}
        }
      ]
    },
    {
      "cell_type": "code",
      "source": [
        "pic_point = uber_data[ 'START' ].value_counts().nlargest(10)\n",
        "pic_point.plot(kind='barh', color= 'lightblue', figsize=(10, 5))\n",
        "plt.xlabel('Number of Trips')\n",
        "plt.ylabel('Pickup points' )\n",
        "plt.title( 'Number of Trips by Pickup points')"
      ],
      "metadata": {
        "colab": {
          "base_uri": "https://localhost:8080/",
          "height": 504
        },
        "id": "g1NxW2JhuMWe",
        "outputId": "38dd0ae2-5c5d-4583-c747-4fc0cbb17b7b"
      },
      "execution_count": 18,
      "outputs": [
        {
          "output_type": "execute_result",
          "data": {
            "text/plain": [
              "Text(0.5, 1.0, 'Number of Trips by Pickup points')"
            ]
          },
          "metadata": {},
          "execution_count": 18
        },
        {
          "output_type": "display_data",
          "data": {
            "text/plain": [
              "<Figure size 1000x500 with 1 Axes>"
            ],
            "image/png": "[encoded data removed]"
          },
          "metadata": {}
        }
      ]
    },
    {
      "cell_type": "code",
      "source": [
        "drop_point = uber_data[ 'STOP' ].value_counts().nlargest(10)\n",
        "drop_point.plot(kind='barh', color= 'lightgreen', figsize=(10, 5))\n",
        "plt.xlabel('Number of Trips')\n",
        "plt.ylabel('Drop points' )\n",
        "plt.title( 'Number of Trips by Drop points')"
      ],
      "metadata": {
        "colab": {
          "base_uri": "https://localhost:8080/",
          "height": 504
        },
        "id": "o9RP5rXvuQUV",
        "outputId": "25af9ef2-d336-45e5-c92a-e6be36a49c57"
      },
      "execution_count": 19,
      "outputs": [
        {
          "output_type": "execute_result",
          "data": {
            "text/plain": [
              "Text(0.5, 1.0, 'Number of Trips by Drop points')"
            ]
          },
          "metadata": {},
          "execution_count": 19
        },
        {
          "output_type": "display_data",
          "data": {
            "text/plain": [
              "<Figure size 1000x500 with 1 Axes>"
            ],
            "image/png": "[encoded data removed]"
          },
          "metadata": {}
        }
      ]
    },
    {
      "cell_type": "code",
      "source": [
        "p_p = uber_data[[ 'START', 'STOP'] ].value_counts().nlargest(10)\n",
        "p_p.plot(kind='barh', color= 'green', figsize=(10, 5))\n",
        "plt.xlabel('Number of Trips')\n",
        "plt.ylabel('point - point' )\n",
        "plt.title( 'points - points Trips Counts')"
      ],
      "metadata": {
        "colab": {
          "base_uri": "https://localhost:8080/",
          "height": 504
        },
        "id": "1F9bgasGuX_J",
        "outputId": "aa94b0d0-9e6d-4573-a8ce-7b4f5521dc48"
      },
      "execution_count": 20,
      "outputs": [
        {
          "output_type": "execute_result",
          "data": {
            "text/plain": [
              "Text(0.5, 1.0, 'points - points Trips Counts')"
            ]
          },
          "metadata": {},
          "execution_count": 20
        },
        {
          "output_type": "display_data",
          "data": {
            "text/plain": [
              "<Figure size 1000x500 with 1 Axes>"
            ],
            "image/png": "[encoded data removed]"
          },
          "metadata": {}
        }
      ]
    },
    {
      "cell_type": "code",
      "source": [
        "print(\"\\n..........Average Length of the Trip..............\\n\")\n",
        "print('Business:', round(uber_data[uber_data['CATEGORY'] == 'Business'].MILES.mean(), 3))\n",
        "print('Personal:', round(uber_data[uber_data['CATEGORY'] == 'Personal'].MILES.mean(), 3))\n",
        "print('Meal/Entertain:', round(uber_data[uber_data['PURPOSE'] == 'Meal/Entertain'].MILES.mean(), 3))"
      ],
      "metadata": {
        "colab": {
          "base_uri": "https://localhost:8080/"
        },
        "id": "wKgsaNGquhcC",
        "outputId": "400475d1-123c-4fd5-e303-43b5c8c17846"
      },
      "execution_count": 21,
      "outputs": [
        {
          "output_type": "stream",
          "name": "stdout",
          "text": [
            "\n",
            "..........Average Length of the Trip..............\n",
            "\n",
            "Business: 10.97\n",
            "Personal: 35.583\n",
            "Meal/Entertain: 5.698\n"
          ]
        }
      ]
    },
    {
      "cell_type": "code",
      "source": [
        "# Exporting tha data in csv format for visualization job...\n",
        "\n",
        "# uber_data.to_csv('uber_data01.csv', index=False)"
      ],
      "metadata": {
        "id": "EG9v8HfCumVX"
      },
      "execution_count": 22,
      "outputs": []
    },
    {
      "cell_type": "markdown",
      "source": [
        "Exploratory Data Analysis of Boston Uber Data"
      ],
      "metadata": {
        "id": "iGsd4PAYK1p9"
      }
    },
    {
      "cell_type": "code",
      "source": [
        "data2 = pd.read_csv('rideshare_kaggle.csv' )"
      ],
      "metadata": {
        "id": "qaA4gb3runhS"
      },
      "execution_count": 26,
      "outputs": []
    },
    {
      "cell_type": "code",
      "source": [
        "data2.head()"
      ],
      "metadata": {
        "colab": {
          "base_uri": "https://localhost:8080/",
          "height": 516
        },
        "id": "CnbAQybz_URR",
        "outputId": "36e2aca5-28a1-436e-97fe-76d23da5ea99"
      },
      "execution_count": 29,
      "outputs": [
        {
          "output_type": "execute_result",
          "data": {
            "text/plain": [
              "                                     id     timestamp  hour  day  month  \\\n",
              "0  424553bb-7174-41ea-aeb4-fe06d4f4b9d7  1.544953e+09     9   16     12   \n",
              "1  4bd23055-6827-41c6-b23b-3c491f24e74d  1.543284e+09     2   27     11   \n",
              "2  981a3613-77af-4620-a42a-0c0866077d1e  1.543367e+09     1   28     11   \n",
              "3  c2d88af2-d278-4bfd-a8d0-29ca77cc5512  1.543554e+09     4   30     11   \n",
              "4  e0126e1f-8ca9-4f2e-82b3-50505a09db9a  1.543463e+09     3   29     11   \n",
              "\n",
              "              datetime          timezone            source    destination  \\\n",
              "0  2018-12-16 09:30:07  America/New_York  Haymarket Square  North Station   \n",
              "1  2018-11-27 02:00:23  America/New_York  Haymarket Square  North Station   \n",
              "2  2018-11-28 01:00:22  America/New_York  Haymarket Square  North Station   \n",
              "3  2018-11-30 04:53:02  America/New_York  Haymarket Square  North Station   \n",
              "4  2018-11-29 03:49:20  America/New_York  Haymarket Square  North Station   \n",
              "\n",
              "  cab_type  ... precipIntensityMax   uvIndexTime  temperatureMin  \\\n",
              "0     Lyft  ...             0.1276  1.544980e+09           39.89   \n",
              "1     Lyft  ...             0.1300  1.543252e+09           40.49   \n",
              "2     Lyft  ...             0.1064  1.543338e+09           35.36   \n",
              "3     Lyft  ...             0.0000  1.543507e+09           34.67   \n",
              "4     Lyft  ...             0.0001  1.543421e+09           33.10   \n",
              "\n",
              "   temperatureMinTime  temperatureMax  temperatureMaxTime  \\\n",
              "0        1.545012e+09           43.68        1.544969e+09   \n",
              "1        1.543234e+09           47.30        1.543252e+09   \n",
              "2        1.543378e+09           47.55        1.543320e+09   \n",
              "3        1.543550e+09           45.03        1.543511e+09   \n",
              "4        1.543403e+09           42.18        1.543421e+09   \n",
              "\n",
              "   apparentTemperatureMin  apparentTemperatureMinTime  apparentTemperatureMax  \\\n",
              "0                   33.73                1.545012e+09                   38.07   \n",
              "1                   36.20                1.543291e+09                   43.92   \n",
              "2                   31.04                1.543378e+09                   44.12   \n",
              "3                   30.30                1.543550e+09                   38.53   \n",
              "4                   29.11                1.543392e+09                   35.75   \n",
              "\n",
              "  apparentTemperatureMaxTime  \n",
              "0               1.544958e+09  \n",
              "1               1.543252e+09  \n",
              "2               1.543320e+09  \n",
              "3               1.543511e+09  \n",
              "4               1.543421e+09  \n",
              "\n",
              "[5 rows x 57 columns]"
            ],
            "text/html": [
              "\n",
              "  <div id=\"df-66338d0a-3f2b-4c9f-8b6d-d3575bb59040\" class=\"colab-df-container\">\n",
              "    <div>\n",
              "<style scoped>\n",
              "    .dataframe tbody tr th:only-of-type {\n",
              "        vertical-align: middle;\n",
              "    }\n",
              "\n",
              "    .dataframe tbody tr th {\n",
              "        vertical-align: top;\n",
              "    }\n",
              "\n",
              "    .dataframe thead th {\n",
              "        text-align: right;\n",
              "    }\n",
              "</style>\n",
              "<table border=\"1\" class=\"dataframe\">\n",
              "  <thead>\n",
              "    <tr style=\"text-align: right;\">\n",
              "      <th></th>\n",
              "      <th>id</th>\n",
              "      <th>timestamp</th>\n",
              "      <th>hour</th>\n",
              "      <th>day</th>\n",
              "      <th>month</th>\n",
              "      <th>datetime</th>\n",
              "      <th>timezone</th>\n",
              "      <th>source</th>\n",
              "      <th>destination</th>\n",
              "      <th>cab_type</th>\n",
              "      <th>...</th>\n",
              "      <th>precipIntensityMax</th>\n",
              "      <th>uvIndexTime</th>\n",
              "      <th>temperatureMin</th>\n",
              "      <th>temperatureMinTime</th>\n",
              "      <th>temperatureMax</th>\n",
              "      <th>temperatureMaxTime</th>\n",
              "      <th>apparentTemperatureMin</th>\n",
              "      <th>apparentTemperatureMinTime</th>\n",
              "      <th>apparentTemperatureMax</th>\n",
              "      <th>apparentTemperatureMaxTime</th>\n",
              "    </tr>\n",
              "  </thead>\n",
              "  <tbody>\n",
              "    <tr>\n",
              "      <th>0</th>\n",
              "      <td>424553bb-7174-41ea-aeb4-fe06d4f4b9d7</td>\n",
              "      <td>1.544953e+09</td>\n",
              "      <td>9</td>\n",
              "      <td>16</td>\n",
              "      <td>12</td>\n",
              "      <td>2018-12-16 09:30:07</td>\n",
              "      <td>America/New_York</td>\n",
              "      <td>Haymarket Square</td>\n",
              "      <td>North Station</td>\n",
              "      <td>Lyft</td>\n",
              "      <td>...</td>\n",
              "      <td>0.1276</td>\n",
              "      <td>1.544980e+09</td>\n",
              "      <td>39.89</td>\n",
              "      <td>1.545012e+09</td>\n",
              "      <td>43.68</td>\n",
              "      <td>1.544969e+09</td>\n",
              "      <td>33.73</td>\n",
              "      <td>1.545012e+09</td>\n",
              "      <td>38.07</td>\n",
              "      <td>1.544958e+09</td>\n",
              "    </tr>\n",
              "    <tr>\n",
              "      <th>1</th>\n",
              "      <td>4bd23055-6827-41c6-b23b-3c491f24e74d</td>\n",
              "      <td>1.543284e+09</td>\n",
              "      <td>2</td>\n",
              "      <td>27</td>\n",
              "      <td>11</td>\n",
              "      <td>2018-11-27 02:00:23</td>\n",
              "      <td>America/New_York</td>\n",
              "      <td>Haymarket Square</td>\n",
              "      <td>North Station</td>\n",
              "      <td>Lyft</td>\n",
              "      <td>...</td>\n",
              "      <td>0.1300</td>\n",
              "      <td>1.543252e+09</td>\n",
              "      <td>40.49</td>\n",
              "      <td>1.543234e+09</td>\n",
              "      <td>47.30</td>\n",
              "      <td>1.543252e+09</td>\n",
              "      <td>36.20</td>\n",
              "      <td>1.543291e+09</td>\n",
              "      <td>43.92</td>\n",
              "      <td>1.543252e+09</td>\n",
              "    </tr>\n",
              "    <tr>\n",
              "      <th>2</th>\n",
              "      <td>981a3613-77af-4620-a42a-0c0866077d1e</td>\n",
              "      <td>1.543367e+09</td>\n",
              "      <td>1</td>\n",
              "      <td>28</td>\n",
              "      <td>11</td>\n",
              "      <td>2018-11-28 01:00:22</td>\n",
              "      <td>America/New_York</td>\n",
              "      <td>Haymarket Square</td>\n",
              "      <td>North Station</td>\n",
              "      <td>Lyft</td>\n",
              "      <td>...</td>\n",
              "      <td>0.1064</td>\n",
              "      <td>1.543338e+09</td>\n",
              "      <td>35.36</td>\n",
              "      <td>1.543378e+09</td>\n",
              "      <td>47.55</td>\n",
              "      <td>1.543320e+09</td>\n",
              "      <td>31.04</td>\n",
              "      <td>1.543378e+09</td>\n",
              "      <td>44.12</td>\n",
              "      <td>1.543320e+09</td>\n",
              "    </tr>\n",
              "    <tr>\n",
              "      <th>3</th>\n",
              "      <td>c2d88af2-d278-4bfd-a8d0-29ca77cc5512</td>\n",
              "      <td>1.543554e+09</td>\n",
              "      <td>4</td>\n",
              "      <td>30</td>\n",
              "      <td>11</td>\n",
              "      <td>2018-11-30 04:53:02</td>\n",
              "      <td>America/New_York</td>\n",
              "      <td>Haymarket Square</td>\n",
              "      <td>North Station</td>\n",
              "      <td>Lyft</td>\n",
              "      <td>...</td>\n",
              "      <td>0.0000</td>\n",
              "      <td>1.543507e+09</td>\n",
              "      <td>34.67</td>\n",
              "      <td>1.543550e+09</td>\n",
              "      <td>45.03</td>\n",
              "      <td>1.543511e+09</td>\n",
              "      <td>30.30</td>\n",
              "      <td>1.543550e+09</td>\n",
              "      <td>38.53</td>\n",
              "      <td>1.543511e+09</td>\n",
              "    </tr>\n",
              "    <tr>\n",
              "      <th>4</th>\n",
              "      <td>e0126e1f-8ca9-4f2e-82b3-50505a09db9a</td>\n",
              "      <td>1.543463e+09</td>\n",
              "      <td>3</td>\n",
              "      <td>29</td>\n",
              "      <td>11</td>\n",
              "      <td>2018-11-29 03:49:20</td>\n",
              "      <td>America/New_York</td>\n",
              "      <td>Haymarket Square</td>\n",
              "      <td>North Station</td>\n",
              "      <td>Lyft</td>\n",
              "      <td>...</td>\n",
              "      <td>0.0001</td>\n",
              "      <td>1.543421e+09</td>\n",
              "      <td>33.10</td>\n",
              "      <td>1.543403e+09</td>\n",
              "      <td>42.18</td>\n",
              "      <td>1.543421e+09</td>\n",
              "      <td>29.11</td>\n",
              "      <td>1.543392e+09</td>\n",
              "      <td>35.75</td>\n",
              "      <td>1.543421e+09</td>\n",
              "    </tr>\n",
              "  </tbody>\n",
              "</table>\n",
              "<p>5 rows × 57 columns</p>\n",
              "</div>\n",
              "    <div class=\"colab-df-buttons\">\n",
              "\n",
              "  <div class=\"colab-df-container\">\n",
              "    <button class=\"colab-df-convert\" onclick=\"convertToInteractive('df-66338d0a-3f2b-4c9f-8b6d-d3575bb59040')\"\n",
              "            title=\"Convert this dataframe to an interactive table.\"\n",
              "            style=\"display:none;\">\n",
              "\n",
              "  <svg xmlns=\"http://www.w3.org/2000/svg\" height=\"24px\" viewBox=\"0 -960 960 960\">\n",
              "    <path d=\"M120-120v-720h720v720H120Zm60-500h600v-160H180v160Zm220 220h160v-160H400v160Zm0 220h160v-160H400v160ZM180-400h160v-160H180v160Zm440 0h160v-160H620v160ZM180-180h160v-160H180v160Zm440 0h160v-160H620v160Z\"/>\n",
              "  </svg>\n",
              "    </button>\n",
              "\n",
              "  <style>\n",
              "    .colab-df-container {\n",
              "      display:flex;\n",
              "      gap: 12px;\n",
              "    }\n",
              "\n",
              "    .colab-df-convert {\n",
              "      background-color: #E8F0FE;\n",
              "      border: none;\n",
              "      border-radius: 50%;\n",
              "      cursor: pointer;\n",
              "      display: none;\n",
              "      fill: #1967D2;\n",
              "      height: 32px;\n",
              "      padding: 0 0 0 0;\n",
              "      width: 32px;\n",
              "    }\n",
              "\n",
              "    .colab-df-convert:hover {\n",
              "      background-color: #E2EBFA;\n",
              "      box-shadow: 0px 1px 2px rgba(60, 64, 67, 0.3), 0px 1px 3px 1px rgba(60, 64, 67, 0.15);\n",
              "      fill: #174EA6;\n",
              "    }\n",
              "\n",
              "    .colab-df-buttons div {\n",
              "      margin-bottom: 4px;\n",
              "    }\n",
              "\n",
              "    [theme=dark] .colab-df-convert {\n",
              "      background-color: #3B4455;\n",
              "      fill: #D2E3FC;\n",
              "    }\n",
              "\n",
              "    [theme=dark] .colab-df-convert:hover {\n",
              "      background-color: #434B5C;\n",
              "      box-shadow: 0px 1px 3px 1px rgba(0, 0, 0, 0.15);\n",
              "      filter: drop-shadow(0px 1px 2px rgba(0, 0, 0, 0.3));\n",
              "      fill: #FFFFFF;\n",
              "    }\n",
              "  </style>\n",
              "\n",
              "    <script>\n",
              "      const buttonEl =\n",
              "        document.querySelector('#df-66338d0a-3f2b-4c9f-8b6d-d3575bb59040 button.colab-df-convert');\n",
              "      buttonEl.style.display =\n",
              "        google.colab.kernel.accessAllowed ? 'block' : 'none';\n",
              "\n",
              "      async function convertToInteractive(key) {\n",
              "        const element = document.querySelector('#df-66338d0a-3f2b-4c9f-8b6d-d3575bb59040');\n",
              "        const dataTable =\n",
              "          await google.colab.kernel.invokeFunction('convertToInteractive',\n",
              "                                                    [key], {});\n",
              "        if (!dataTable) return;\n",
              "\n",
              "        const docLinkHtml = 'Like what you see? Visit the ' +\n",
              "          '<a target=\"_blank\" href=https://colab.research.google.com/notebooks/data_table.ipynb>data table notebook</a>'\n",
              "          + ' to learn more about interactive tables.';\n",
              "        element.innerHTML = '';\n",
              "        dataTable['output_type'] = 'display_data';\n",
              "        await google.colab.output.renderOutput(dataTable, element);\n",
              "        const docLink = document.createElement('div');\n",
              "        docLink.innerHTML = docLinkHtml;\n",
              "        element.appendChild(docLink);\n",
              "      }\n",
              "    </script>\n",
              "  </div>\n",
              "\n",
              "\n",
              "<div id=\"df-0060d2eb-1c54-4270-9e00-ccbe6b49cf55\">\n",
              "  <button class=\"colab-df-quickchart\" onclick=\"quickchart('df-0060d2eb-1c54-4270-9e00-ccbe6b49cf55')\"\n",
              "            title=\"Suggest charts\"\n",
              "            style=\"display:none;\">\n",
              "\n",
              "<svg xmlns=\"http://www.w3.org/2000/svg\" height=\"24px\"viewBox=\"0 0 24 24\"\n",
              "     width=\"24px\">\n",
              "    <g>\n",
              "        <path d=\"M19 3H5c-1.1 0-2 .9-2 2v14c0 1.1.9 2 2 2h14c1.1 0 2-.9 2-2V5c0-1.1-.9-2-2-2zM9 17H7v-7h2v7zm4 0h-2V7h2v10zm4 0h-2v-4h2v4z\"/>\n",
              "    </g>\n",
              "</svg>\n",
              "  </button>\n",
              "\n",
              "<style>\n",
              "  .colab-df-quickchart {\n",
              "      --bg-color: #E8F0FE;\n",
              "      --fill-color: #1967D2;\n",
              "      --hover-bg-color: #E2EBFA;\n",
              "      --hover-fill-color: #174EA6;\n",
              "      --disabled-fill-color: #AAA;\n",
              "      --disabled-bg-color: #DDD;\n",
              "  }\n",
              "\n",
              "  [theme=dark] .colab-df-quickchart {\n",
              "      --bg-color: #3B4455;\n",
              "      --fill-color: #D2E3FC;\n",
              "      --hover-bg-color: #434B5C;\n",
              "      --hover-fill-color: #FFFFFF;\n",
              "      --disabled-bg-color: #3B4455;\n",
              "      --disabled-fill-color: #666;\n",
              "  }\n",
              "\n",
              "  .colab-df-quickchart {\n",
              "    background-color: var(--bg-color);\n",
              "    border: none;\n",
              "    border-radius: 50%;\n",
              "    cursor: pointer;\n",
              "    display: none;\n",
              "    fill: var(--fill-color);\n",
              "    height: 32px;\n",
              "    padding: 0;\n",
              "    width: 32px;\n",
              "  }\n",
              "\n",
              "  .colab-df-quickchart:hover {\n",
              "    background-color: var(--hover-bg-color);\n",
              "    box-shadow: 0 1px 2px rgba(60, 64, 67, 0.3), 0 1px 3px 1px rgba(60, 64, 67, 0.15);\n",
              "    fill: var(--button-hover-fill-color);\n",
              "  }\n",
              "\n",
              "  .colab-df-quickchart-complete:disabled,\n",
              "  .colab-df-quickchart-complete:disabled:hover {\n",
              "    background-color: var(--disabled-bg-color);\n",
              "    fill: var(--disabled-fill-color);\n",
              "    box-shadow: none;\n",
              "  }\n",
              "\n",
              "  .colab-df-spinner {\n",
              "    border: 2px solid var(--fill-color);\n",
              "    border-color: transparent;\n",
              "    border-bottom-color: var(--fill-color);\n",
              "    animation:\n",
              "      spin 1s steps(1) infinite;\n",
              "  }\n",
              "\n",
              "  @keyframes spin {\n",
              "    0% {\n",
              "      border-color: transparent;\n",
              "      border-bottom-color: var(--fill-color);\n",
              "      border-left-color: var(--fill-color);\n",
              "    }\n",
              "    20% {\n",
              "      border-color: transparent;\n",
              "      border-left-color: var(--fill-color);\n",
              "      border-top-color: var(--fill-color);\n",
              "    }\n",
              "    30% {\n",
              "      border-color: transparent;\n",
              "      border-left-color: var(--fill-color);\n",
              "      border-top-color: var(--fill-color);\n",
              "      border-right-color: var(--fill-color);\n",
              "    }\n",
              "    40% {\n",
              "      border-color: transparent;\n",
              "      border-right-color: var(--fill-color);\n",
              "      border-top-color: var(--fill-color);\n",
              "    }\n",
              "    60% {\n",
              "      border-color: transparent;\n",
              "      border-right-color: var(--fill-color);\n",
              "    }\n",
              "    80% {\n",
              "      border-color: transparent;\n",
              "      border-right-color: var(--fill-color);\n",
              "      border-bottom-color: var(--fill-color);\n",
              "    }\n",
              "    90% {\n",
              "      border-color: transparent;\n",
              "      border-bottom-color: var(--fill-color);\n",
              "    }\n",
              "  }\n",
              "</style>\n",
              "\n",
              "  <script>\n",
              "    async function quickchart(key) {\n",
              "      const quickchartButtonEl =\n",
              "        document.querySelector('#' + key + ' button');\n",
              "      quickchartButtonEl.disabled = true;  // To prevent multiple clicks.\n",
              "      quickchartButtonEl.classList.add('colab-df-spinner');\n",
              "      try {\n",
              "        const charts = await google.colab.kernel.invokeFunction(\n",
              "            'suggestCharts', [key], {});\n",
              "      } catch (error) {\n",
              "        console.error('Error during call to suggestCharts:', error);\n",
              "      }\n",
              "      quickchartButtonEl.classList.remove('colab-df-spinner');\n",
              "      quickchartButtonEl.classList.add('colab-df-quickchart-complete');\n",
              "    }\n",
              "    (() => {\n",
              "      let quickchartButtonEl =\n",
              "        document.querySelector('#df-0060d2eb-1c54-4270-9e00-ccbe6b49cf55 button');\n",
              "      quickchartButtonEl.style.display =\n",
              "        google.colab.kernel.accessAllowed ? 'block' : 'none';\n",
              "    })();\n",
              "  </script>\n",
              "</div>\n",
              "\n",
              "    </div>\n",
              "  </div>\n"
            ],
            "application/vnd.google.colaboratory.intrinsic+json": {
              "type": "dataframe",
              "variable_name": "data2"
            }
          },
          "metadata": {},
          "execution_count": 29
        }
      ]
    },
    {
      "cell_type": "code",
      "source": [
        "extra_cols = [ 'apparentTemperature', 'precipIntensity' ,\n",
        "'humidity',\n",
        "'windSpeed',\n",
        "'apparentTemperatureHigh',\n",
        "'dewPoint',\n",
        "'precipIntensityMax',\n",
        "'apparentTemperatureMax',\n",
        "'cloudCover',\n",
        "'moonPhase',\n",
        "'windGustTime',\n",
        "'visibility',\n",
        "'temperatureHighTime' ,\n",
        "'apparentTemperatureHighTime',\n",
        "'apparentTemperatureLow' ,\n",
        "'apparentTemperatureLowTime',\n",
        "'temperatureMinTime' ,\n",
        "'temperatureMaxTime',\n",
        "'apparentTemperatureMin',\n",
        "'apparentTemperatureMinTime', 'apparentTemperatureMaxTime',\n",
        "'windBearing' ,\n",
        "'sunriseTime',\n",
        "'uvIndex' ,\n",
        "'visibility.1',\n",
        "'ozone',\n",
        "'sunsetTime', 'uvIndexTime']\n",
        "\n",
        "data2 = data2.drop(extra_cols, axis=1)"
      ],
      "metadata": {
        "id": "NLZQxlhn_WQv"
      },
      "execution_count": 30,
      "outputs": []
    },
    {
      "cell_type": "code",
      "source": [
        "data2.columns"
      ],
      "metadata": {
        "colab": {
          "base_uri": "https://localhost:8080/"
        },
        "id": "mAxME72xAfSJ",
        "outputId": "52ab9e6c-009a-4e0c-e330-5295564f619e"
      },
      "execution_count": 31,
      "outputs": [
        {
          "output_type": "execute_result",
          "data": {
            "text/plain": [
              "Index(['id', 'timestamp', 'hour', 'day', 'month', 'datetime', 'timezone',\n",
              "       'source', 'destination', 'cab_type', 'product_id', 'name', 'price',\n",
              "       'distance', 'surge_multiplier', 'latitude', 'longitude', 'temperature',\n",
              "       'short_summary', 'long_summary', 'precipProbability', 'windGust',\n",
              "       'temperatureHigh', 'temperatureLow', 'temperatureLowTime', 'icon',\n",
              "       'pressure', 'temperatureMin', 'temperatureMax'],\n",
              "      dtype='object')"
            ]
          },
          "metadata": {},
          "execution_count": 31
        }
      ]
    },
    {
      "cell_type": "code",
      "source": [
        "data2.sample(10)"
      ],
      "metadata": {
        "colab": {
          "base_uri": "https://localhost:8080/",
          "height": 933
        },
        "id": "tXw_yXufAldX",
        "outputId": "5fbabb08-3c7d-46da-8aa5-5ced87f3f292"
      },
      "execution_count": 32,
      "outputs": [
        {
          "output_type": "execute_result",
          "data": {
            "text/plain": [
              "                                        id     timestamp  hour  day  month  \\\n",
              "1208  1c0bfa09-ae62-4cde-8b69-5f23ae3480c1  1.543822e+09     7    3     12   \n",
              "614   2228414f-01b5-4374-aa96-2afae08c869d  1.544735e+09    21   13     12   \n",
              "630   2b54f5ad-72be-4fa1-b97a-1743a9d8488c  1.543556e+09     5   30     11   \n",
              "1539  a74e3d49-a128-4e0f-9414-81507e8f0ebc  1.543316e+09    10   27     11   \n",
              "476   dc435ed9-3de3-4484-821e-465e28586b4d  1.543845e+09    13    3     12   \n",
              "1159  5aadf834-c103-4b1b-a971-5c6a954ff6b6  1.543272e+09    22   26     11   \n",
              "1521  593cedce-3b91-49f3-ad47-e8340e57a891  1.543696e+09    20    1     12   \n",
              "1687  ab2db53e-9adf-4a5b-860e-5d61802f02c6  1.543604e+09    18   30     11   \n",
              "1543  212274e2-f6a1-44a3-8279-b7ab9a175d7c  1.545096e+09     1   18     12   \n",
              "262   54d8c73f-b50f-4ea2-be4d-4271386c5aef  1.543451e+09     0   29     11   \n",
              "\n",
              "                 datetime          timezone              source  \\\n",
              "1208  2018-12-03 07:23:05  America/New_York            West End   \n",
              "614   2018-12-13 21:00:15  America/New_York         Beacon Hill   \n",
              "630   2018-11-30 05:33:02  America/New_York  Financial District   \n",
              "1539  2018-11-27 10:45:23  America/New_York              Fenway   \n",
              "476   2018-12-03 13:58:05  America/New_York           North End   \n",
              "1159  2018-11-26 22:42:24  America/New_York            Back Bay   \n",
              "1521  2018-12-01 20:23:00  America/New_York  Financial District   \n",
              "1687  2018-11-30 18:52:57  America/New_York       South Station   \n",
              "1543  2018-12-18 01:15:07  America/New_York       South Station   \n",
              "262   2018-11-29 00:29:07  America/New_York            Back Bay   \n",
              "\n",
              "             destination cab_type  ...  \\\n",
              "1208   Boston University     Lyft  ...   \n",
              "614     Haymarket Square     Lyft  ...   \n",
              "630        South Station     Uber  ...   \n",
              "1539            West End     Uber  ...   \n",
              "476   Financial District     Uber  ...   \n",
              "1159              Fenway     Lyft  ...   \n",
              "1521       South Station     Lyft  ...   \n",
              "1687         Beacon Hill     Uber  ...   \n",
              "1543    Theatre District     Lyft  ...   \n",
              "262    Boston University     Uber  ...   \n",
              "\n",
              "                                           long_summary precipProbability  \\\n",
              "1208                             Foggy in the morning.               0.00   \n",
              "614                  Partly cloudy throughout the day.               0.00   \n",
              "630                  Mostly cloudy throughout the day.               0.00   \n",
              "1539                        Light rain in the morning.               1.00   \n",
              "476                              Foggy in the morning.               0.00   \n",
              "1159   Rain until morning, starting again in the eve...              0.42   \n",
              "1521          Light rain in the morning and overnight.               0.00   \n",
              "1687                      Overcast throughout the day.               0.00   \n",
              "1543                        Light rain in the morning.               0.00   \n",
              "262                  Mostly cloudy throughout the day.               0.00   \n",
              "\n",
              "      windGust  temperatureHigh  temperatureLow  temperatureLowTime  \\\n",
              "1208      1.44            57.87           32.80        1.543921e+09   \n",
              "614       3.49            33.78           26.58        1.544789e+09   \n",
              "630       5.00            42.64           31.57        1.543658e+09   \n",
              "1539      7.42            46.91           33.82        1.543399e+09   \n",
              "476       5.84            56.89           33.73        1.543921e+09   \n",
              "1159      7.02            46.46           42.17        1.543298e+09   \n",
              "1521      3.70            44.76           34.95        1.543712e+09   \n",
              "1687      3.48            42.13           30.17        1.543662e+09   \n",
              "1543     11.36            41.51           24.05        1.545134e+09   \n",
              "262      12.21            42.72           37.59        1.543486e+09   \n",
              "\n",
              "                       icon  pressure temperatureMin temperatureMax  \n",
              "1208                cloudy    1000.81          42.96          57.87  \n",
              "614    partly-cloudy-night    1034.39          17.85          33.78  \n",
              "630            clear-night    1013.87          28.78          42.64  \n",
              "1539                  rain     989.98          36.34          46.91  \n",
              "476                 cloudy     999.95          43.10          56.89  \n",
              "1159                  rain    1009.43          40.67          46.46  \n",
              "1521     partly-cloudy-day    1022.92          31.57          44.76  \n",
              "1687                cloudy    1015.98          28.90          42.13  \n",
              "1543   partly-cloudy-night    1001.16          34.24          41.51  \n",
              "262    partly-cloudy-night     996.21          33.82          42.72  \n",
              "\n",
              "[10 rows x 29 columns]"
            ],
            "text/html": [
              "\n",
              "  <div id=\"df-0827bf65-9f8b-4a8f-b6a5-6400a81d98eb\" class=\"colab-df-container\">\n",
              "    <div>\n",
              "<style scoped>\n",
              "    .dataframe tbody tr th:only-of-type {\n",
              "        vertical-align: middle;\n",
              "    }\n",
              "\n",
              "    .dataframe tbody tr th {\n",
              "        vertical-align: top;\n",
              "    }\n",
              "\n",
              "    .dataframe thead th {\n",
              "        text-align: right;\n",
              "    }\n",
              "</style>\n",
              "<table border=\"1\" class=\"dataframe\">\n",
              "  <thead>\n",
              "    <tr style=\"text-align: right;\">\n",
              "      <th></th>\n",
              "      <th>id</th>\n",
              "      <th>timestamp</th>\n",
              "      <th>hour</th>\n",
              "      <th>day</th>\n",
              "      <th>month</th>\n",
              "      <th>datetime</th>\n",
              "      <th>timezone</th>\n",
              "      <th>source</th>\n",
              "      <th>destination</th>\n",
              "      <th>cab_type</th>\n",
              "      <th>...</th>\n",
              "      <th>long_summary</th>\n",
              "      <th>precipProbability</th>\n",
              "      <th>windGust</th>\n",
              "      <th>temperatureHigh</th>\n",
              "      <th>temperatureLow</th>\n",
              "      <th>temperatureLowTime</th>\n",
              "      <th>icon</th>\n",
              "      <th>pressure</th>\n",
              "      <th>temperatureMin</th>\n",
              "      <th>temperatureMax</th>\n",
              "    </tr>\n",
              "  </thead>\n",
              "  <tbody>\n",
              "    <tr>\n",
              "      <th>1208</th>\n",
              "      <td>1c0bfa09-ae62-4cde-8b69-5f23ae3480c1</td>\n",
              "      <td>1.543822e+09</td>\n",
              "      <td>7</td>\n",
              "      <td>3</td>\n",
              "      <td>12</td>\n",
              "      <td>2018-12-03 07:23:05</td>\n",
              "      <td>America/New_York</td>\n",
              "      <td>West End</td>\n",
              "      <td>Boston University</td>\n",
              "      <td>Lyft</td>\n",
              "      <td>...</td>\n",
              "      <td>Foggy in the morning.</td>\n",
              "      <td>0.00</td>\n",
              "      <td>1.44</td>\n",
              "      <td>57.87</td>\n",
              "      <td>32.80</td>\n",
              "      <td>1.543921e+09</td>\n",
              "      <td>cloudy</td>\n",
              "      <td>1000.81</td>\n",
              "      <td>42.96</td>\n",
              "      <td>57.87</td>\n",
              "    </tr>\n",
              "    <tr>\n",
              "      <th>614</th>\n",
              "      <td>2228414f-01b5-4374-aa96-2afae08c869d</td>\n",
              "      <td>1.544735e+09</td>\n",
              "      <td>21</td>\n",
              "      <td>13</td>\n",
              "      <td>12</td>\n",
              "      <td>2018-12-13 21:00:15</td>\n",
              "      <td>America/New_York</td>\n",
              "      <td>Beacon Hill</td>\n",
              "      <td>Haymarket Square</td>\n",
              "      <td>Lyft</td>\n",
              "      <td>...</td>\n",
              "      <td>Partly cloudy throughout the day.</td>\n",
              "      <td>0.00</td>\n",
              "      <td>3.49</td>\n",
              "      <td>33.78</td>\n",
              "      <td>26.58</td>\n",
              "      <td>1.544789e+09</td>\n",
              "      <td>partly-cloudy-night</td>\n",
              "      <td>1034.39</td>\n",
              "      <td>17.85</td>\n",
              "      <td>33.78</td>\n",
              "    </tr>\n",
              "    <tr>\n",
              "      <th>630</th>\n",
              "      <td>2b54f5ad-72be-4fa1-b97a-1743a9d8488c</td>\n",
              "      <td>1.543556e+09</td>\n",
              "      <td>5</td>\n",
              "      <td>30</td>\n",
              "      <td>11</td>\n",
              "      <td>2018-11-30 05:33:02</td>\n",
              "      <td>America/New_York</td>\n",
              "      <td>Financial District</td>\n",
              "      <td>South Station</td>\n",
              "      <td>Uber</td>\n",
              "      <td>...</td>\n",
              "      <td>Mostly cloudy throughout the day.</td>\n",
              "      <td>0.00</td>\n",
              "      <td>5.00</td>\n",
              "      <td>42.64</td>\n",
              "      <td>31.57</td>\n",
              "      <td>1.543658e+09</td>\n",
              "      <td>clear-night</td>\n",
              "      <td>1013.87</td>\n",
              "      <td>28.78</td>\n",
              "      <td>42.64</td>\n",
              "    </tr>\n",
              "    <tr>\n",
              "      <th>1539</th>\n",
              "      <td>a74e3d49-a128-4e0f-9414-81507e8f0ebc</td>\n",
              "      <td>1.543316e+09</td>\n",
              "      <td>10</td>\n",
              "      <td>27</td>\n",
              "      <td>11</td>\n",
              "      <td>2018-11-27 10:45:23</td>\n",
              "      <td>America/New_York</td>\n",
              "      <td>Fenway</td>\n",
              "      <td>West End</td>\n",
              "      <td>Uber</td>\n",
              "      <td>...</td>\n",
              "      <td>Light rain in the morning.</td>\n",
              "      <td>1.00</td>\n",
              "      <td>7.42</td>\n",
              "      <td>46.91</td>\n",
              "      <td>33.82</td>\n",
              "      <td>1.543399e+09</td>\n",
              "      <td>rain</td>\n",
              "      <td>989.98</td>\n",
              "      <td>36.34</td>\n",
              "      <td>46.91</td>\n",
              "    </tr>\n",
              "    <tr>\n",
              "      <th>476</th>\n",
              "      <td>dc435ed9-3de3-4484-821e-465e28586b4d</td>\n",
              "      <td>1.543845e+09</td>\n",
              "      <td>13</td>\n",
              "      <td>3</td>\n",
              "      <td>12</td>\n",
              "      <td>2018-12-03 13:58:05</td>\n",
              "      <td>America/New_York</td>\n",
              "      <td>North End</td>\n",
              "      <td>Financial District</td>\n",
              "      <td>Uber</td>\n",
              "      <td>...</td>\n",
              "      <td>Foggy in the morning.</td>\n",
              "      <td>0.00</td>\n",
              "      <td>5.84</td>\n",
              "      <td>56.89</td>\n",
              "      <td>33.73</td>\n",
              "      <td>1.543921e+09</td>\n",
              "      <td>cloudy</td>\n",
              "      <td>999.95</td>\n",
              "      <td>43.10</td>\n",
              "      <td>56.89</td>\n",
              "    </tr>\n",
              "    <tr>\n",
              "      <th>1159</th>\n",
              "      <td>5aadf834-c103-4b1b-a971-5c6a954ff6b6</td>\n",
              "      <td>1.543272e+09</td>\n",
              "      <td>22</td>\n",
              "      <td>26</td>\n",
              "      <td>11</td>\n",
              "      <td>2018-11-26 22:42:24</td>\n",
              "      <td>America/New_York</td>\n",
              "      <td>Back Bay</td>\n",
              "      <td>Fenway</td>\n",
              "      <td>Lyft</td>\n",
              "      <td>...</td>\n",
              "      <td>Rain until morning, starting again in the eve...</td>\n",
              "      <td>0.42</td>\n",
              "      <td>7.02</td>\n",
              "      <td>46.46</td>\n",
              "      <td>42.17</td>\n",
              "      <td>1.543298e+09</td>\n",
              "      <td>rain</td>\n",
              "      <td>1009.43</td>\n",
              "      <td>40.67</td>\n",
              "      <td>46.46</td>\n",
              "    </tr>\n",
              "    <tr>\n",
              "      <th>1521</th>\n",
              "      <td>593cedce-3b91-49f3-ad47-e8340e57a891</td>\n",
              "      <td>1.543696e+09</td>\n",
              "      <td>20</td>\n",
              "      <td>1</td>\n",
              "      <td>12</td>\n",
              "      <td>2018-12-01 20:23:00</td>\n",
              "      <td>America/New_York</td>\n",
              "      <td>Financial District</td>\n",
              "      <td>South Station</td>\n",
              "      <td>Lyft</td>\n",
              "      <td>...</td>\n",
              "      <td>Light rain in the morning and overnight.</td>\n",
              "      <td>0.00</td>\n",
              "      <td>3.70</td>\n",
              "      <td>44.76</td>\n",
              "      <td>34.95</td>\n",
              "      <td>1.543712e+09</td>\n",
              "      <td>partly-cloudy-day</td>\n",
              "      <td>1022.92</td>\n",
              "      <td>31.57</td>\n",
              "      <td>44.76</td>\n",
              "    </tr>\n",
              "    <tr>\n",
              "      <th>1687</th>\n",
              "      <td>ab2db53e-9adf-4a5b-860e-5d61802f02c6</td>\n",
              "      <td>1.543604e+09</td>\n",
              "      <td>18</td>\n",
              "      <td>30</td>\n",
              "      <td>11</td>\n",
              "      <td>2018-11-30 18:52:57</td>\n",
              "      <td>America/New_York</td>\n",
              "      <td>South Station</td>\n",
              "      <td>Beacon Hill</td>\n",
              "      <td>Uber</td>\n",
              "      <td>...</td>\n",
              "      <td>Overcast throughout the day.</td>\n",
              "      <td>0.00</td>\n",
              "      <td>3.48</td>\n",
              "      <td>42.13</td>\n",
              "      <td>30.17</td>\n",
              "      <td>1.543662e+09</td>\n",
              "      <td>cloudy</td>\n",
              "      <td>1015.98</td>\n",
              "      <td>28.90</td>\n",
              "      <td>42.13</td>\n",
              "    </tr>\n",
              "    <tr>\n",
              "      <th>1543</th>\n",
              "      <td>212274e2-f6a1-44a3-8279-b7ab9a175d7c</td>\n",
              "      <td>1.545096e+09</td>\n",
              "      <td>1</td>\n",
              "      <td>18</td>\n",
              "      <td>12</td>\n",
              "      <td>2018-12-18 01:15:07</td>\n",
              "      <td>America/New_York</td>\n",
              "      <td>South Station</td>\n",
              "      <td>Theatre District</td>\n",
              "      <td>Lyft</td>\n",
              "      <td>...</td>\n",
              "      <td>Light rain in the morning.</td>\n",
              "      <td>0.00</td>\n",
              "      <td>11.36</td>\n",
              "      <td>41.51</td>\n",
              "      <td>24.05</td>\n",
              "      <td>1.545134e+09</td>\n",
              "      <td>partly-cloudy-night</td>\n",
              "      <td>1001.16</td>\n",
              "      <td>34.24</td>\n",
              "      <td>41.51</td>\n",
              "    </tr>\n",
              "    <tr>\n",
              "      <th>262</th>\n",
              "      <td>54d8c73f-b50f-4ea2-be4d-4271386c5aef</td>\n",
              "      <td>1.543451e+09</td>\n",
              "      <td>0</td>\n",
              "      <td>29</td>\n",
              "      <td>11</td>\n",
              "      <td>2018-11-29 00:29:07</td>\n",
              "      <td>America/New_York</td>\n",
              "      <td>Back Bay</td>\n",
              "      <td>Boston University</td>\n",
              "      <td>Uber</td>\n",
              "      <td>...</td>\n",
              "      <td>Mostly cloudy throughout the day.</td>\n",
              "      <td>0.00</td>\n",
              "      <td>12.21</td>\n",
              "      <td>42.72</td>\n",
              "      <td>37.59</td>\n",
              "      <td>1.543486e+09</td>\n",
              "      <td>partly-cloudy-night</td>\n",
              "      <td>996.21</td>\n",
              "      <td>33.82</td>\n",
              "      <td>42.72</td>\n",
              "    </tr>\n",
              "  </tbody>\n",
              "</table>\n",
              "<p>10 rows × 29 columns</p>\n",
              "</div>\n",
              "    <div class=\"colab-df-buttons\">\n",
              "\n",
              "  <div class=\"colab-df-container\">\n",
              "    <button class=\"colab-df-convert\" onclick=\"convertToInteractive('df-0827bf65-9f8b-4a8f-b6a5-6400a81d98eb')\"\n",
              "            title=\"Convert this dataframe to an interactive table.\"\n",
              "            style=\"display:none;\">\n",
              "\n",
              "  <svg xmlns=\"http://www.w3.org/2000/svg\" height=\"24px\" viewBox=\"0 -960 960 960\">\n",
              "    <path d=\"M120-120v-720h720v720H120Zm60-500h600v-160H180v160Zm220 220h160v-160H400v160Zm0 220h160v-160H400v160ZM180-400h160v-160H180v160Zm440 0h160v-160H620v160ZM180-180h160v-160H180v160Zm440 0h160v-160H620v160Z\"/>\n",
              "  </svg>\n",
              "    </button>\n",
              "\n",
              "  <style>\n",
              "    .colab-df-container {\n",
              "      display:flex;\n",
              "      gap: 12px;\n",
              "    }\n",
              "\n",
              "    .colab-df-convert {\n",
              "      background-color: #E8F0FE;\n",
              "      border: none;\n",
              "      border-radius: 50%;\n",
              "      cursor: pointer;\n",
              "      display: none;\n",
              "      fill: #1967D2;\n",
              "      height: 32px;\n",
              "      padding: 0 0 0 0;\n",
              "      width: 32px;\n",
              "    }\n",
              "\n",
              "    .colab-df-convert:hover {\n",
              "      background-color: #E2EBFA;\n",
              "      box-shadow: 0px 1px 2px rgba(60, 64, 67, 0.3), 0px 1px 3px 1px rgba(60, 64, 67, 0.15);\n",
              "      fill: #174EA6;\n",
              "    }\n",
              "\n",
              "    .colab-df-buttons div {\n",
              "      margin-bottom: 4px;\n",
              "    }\n",
              "\n",
              "    [theme=dark] .colab-df-convert {\n",
              "      background-color: #3B4455;\n",
              "      fill: #D2E3FC;\n",
              "    }\n",
              "\n",
              "    [theme=dark] .colab-df-convert:hover {\n",
              "      background-color: #434B5C;\n",
              "      box-shadow: 0px 1px 3px 1px rgba(0, 0, 0, 0.15);\n",
              "      filter: drop-shadow(0px 1px 2px rgba(0, 0, 0, 0.3));\n",
              "      fill: #FFFFFF;\n",
              "    }\n",
              "  </style>\n",
              "\n",
              "    <script>\n",
              "      const buttonEl =\n",
              "        document.querySelector('#df-0827bf65-9f8b-4a8f-b6a5-6400a81d98eb button.colab-df-convert');\n",
              "      buttonEl.style.display =\n",
              "        google.colab.kernel.accessAllowed ? 'block' : 'none';\n",
              "\n",
              "      async function convertToInteractive(key) {\n",
              "        const element = document.querySelector('#df-0827bf65-9f8b-4a8f-b6a5-6400a81d98eb');\n",
              "        const dataTable =\n",
              "          await google.colab.kernel.invokeFunction('convertToInteractive',\n",
              "                                                    [key], {});\n",
              "        if (!dataTable) return;\n",
              "\n",
              "        const docLinkHtml = 'Like what you see? Visit the ' +\n",
              "          '<a target=\"_blank\" href=https://colab.research.google.com/notebooks/data_table.ipynb>data table notebook</a>'\n",
              "          + ' to learn more about interactive tables.';\n",
              "        element.innerHTML = '';\n",
              "        dataTable['output_type'] = 'display_data';\n",
              "        await google.colab.output.renderOutput(dataTable, element);\n",
              "        const docLink = document.createElement('div');\n",
              "        docLink.innerHTML = docLinkHtml;\n",
              "        element.appendChild(docLink);\n",
              "      }\n",
              "    </script>\n",
              "  </div>\n",
              "\n",
              "\n",
              "<div id=\"df-733956a6-e751-4f9b-9398-bbd1ea5e44af\">\n",
              "  <button class=\"colab-df-quickchart\" onclick=\"quickchart('df-733956a6-e751-4f9b-9398-bbd1ea5e44af')\"\n",
              "            title=\"Suggest charts\"\n",
              "            style=\"display:none;\">\n",
              "\n",
              "<svg xmlns=\"http://www.w3.org/2000/svg\" height=\"24px\"viewBox=\"0 0 24 24\"\n",
              "     width=\"24px\">\n",
              "    <g>\n",
              "        <path d=\"M19 3H5c-1.1 0-2 .9-2 2v14c0 1.1.9 2 2 2h14c1.1 0 2-.9 2-2V5c0-1.1-.9-2-2-2zM9 17H7v-7h2v7zm4 0h-2V7h2v10zm4 0h-2v-4h2v4z\"/>\n",
              "    </g>\n",
              "</svg>\n",
              "  </button>\n",
              "\n",
              "<style>\n",
              "  .colab-df-quickchart {\n",
              "      --bg-color: #E8F0FE;\n",
              "      --fill-color: #1967D2;\n",
              "      --hover-bg-color: #E2EBFA;\n",
              "      --hover-fill-color: #174EA6;\n",
              "      --disabled-fill-color: #AAA;\n",
              "      --disabled-bg-color: #DDD;\n",
              "  }\n",
              "\n",
              "  [theme=dark] .colab-df-quickchart {\n",
              "      --bg-color: #3B4455;\n",
              "      --fill-color: #D2E3FC;\n",
              "      --hover-bg-color: #434B5C;\n",
              "      --hover-fill-color: #FFFFFF;\n",
              "      --disabled-bg-color: #3B4455;\n",
              "      --disabled-fill-color: #666;\n",
              "  }\n",
              "\n",
              "  .colab-df-quickchart {\n",
              "    background-color: var(--bg-color);\n",
              "    border: none;\n",
              "    border-radius: 50%;\n",
              "    cursor: pointer;\n",
              "    display: none;\n",
              "    fill: var(--fill-color);\n",
              "    height: 32px;\n",
              "    padding: 0;\n",
              "    width: 32px;\n",
              "  }\n",
              "\n",
              "  .colab-df-quickchart:hover {\n",
              "    background-color: var(--hover-bg-color);\n",
              "    box-shadow: 0 1px 2px rgba(60, 64, 67, 0.3), 0 1px 3px 1px rgba(60, 64, 67, 0.15);\n",
              "    fill: var(--button-hover-fill-color);\n",
              "  }\n",
              "\n",
              "  .colab-df-quickchart-complete:disabled,\n",
              "  .colab-df-quickchart-complete:disabled:hover {\n",
              "    background-color: var(--disabled-bg-color);\n",
              "    fill: var(--disabled-fill-color);\n",
              "    box-shadow: none;\n",
              "  }\n",
              "\n",
              "  .colab-df-spinner {\n",
              "    border: 2px solid var(--fill-color);\n",
              "    border-color: transparent;\n",
              "    border-bottom-color: var(--fill-color);\n",
              "    animation:\n",
              "      spin 1s steps(1) infinite;\n",
              "  }\n",
              "\n",
              "  @keyframes spin {\n",
              "    0% {\n",
              "      border-color: transparent;\n",
              "      border-bottom-color: var(--fill-color);\n",
              "      border-left-color: var(--fill-color);\n",
              "    }\n",
              "    20% {\n",
              "      border-color: transparent;\n",
              "      border-left-color: var(--fill-color);\n",
              "      border-top-color: var(--fill-color);\n",
              "    }\n",
              "    30% {\n",
              "      border-color: transparent;\n",
              "      border-left-color: var(--fill-color);\n",
              "      border-top-color: var(--fill-color);\n",
              "      border-right-color: var(--fill-color);\n",
              "    }\n",
              "    40% {\n",
              "      border-color: transparent;\n",
              "      border-right-color: var(--fill-color);\n",
              "      border-top-color: var(--fill-color);\n",
              "    }\n",
              "    60% {\n",
              "      border-color: transparent;\n",
              "      border-right-color: var(--fill-color);\n",
              "    }\n",
              "    80% {\n",
              "      border-color: transparent;\n",
              "      border-right-color: var(--fill-color);\n",
              "      border-bottom-color: var(--fill-color);\n",
              "    }\n",
              "    90% {\n",
              "      border-color: transparent;\n",
              "      border-bottom-color: var(--fill-color);\n",
              "    }\n",
              "  }\n",
              "</style>\n",
              "\n",
              "  <script>\n",
              "    async function quickchart(key) {\n",
              "      const quickchartButtonEl =\n",
              "        document.querySelector('#' + key + ' button');\n",
              "      quickchartButtonEl.disabled = true;  // To prevent multiple clicks.\n",
              "      quickchartButtonEl.classList.add('colab-df-spinner');\n",
              "      try {\n",
              "        const charts = await google.colab.kernel.invokeFunction(\n",
              "            'suggestCharts', [key], {});\n",
              "      } catch (error) {\n",
              "        console.error('Error during call to suggestCharts:', error);\n",
              "      }\n",
              "      quickchartButtonEl.classList.remove('colab-df-spinner');\n",
              "      quickchartButtonEl.classList.add('colab-df-quickchart-complete');\n",
              "    }\n",
              "    (() => {\n",
              "      let quickchartButtonEl =\n",
              "        document.querySelector('#df-733956a6-e751-4f9b-9398-bbd1ea5e44af button');\n",
              "      quickchartButtonEl.style.display =\n",
              "        google.colab.kernel.accessAllowed ? 'block' : 'none';\n",
              "    })();\n",
              "  </script>\n",
              "</div>\n",
              "\n",
              "    </div>\n",
              "  </div>\n"
            ],
            "application/vnd.google.colaboratory.intrinsic+json": {
              "type": "dataframe"
            }
          },
          "metadata": {},
          "execution_count": 32
        }
      ]
    },
    {
      "cell_type": "code",
      "source": [
        "print(data2.isnull().sum())\n",
        "print(data2.isnull().sum().sum())\n",
        "data2=data2.dropna()"
      ],
      "metadata": {
        "colab": {
          "base_uri": "https://localhost:8080/"
        },
        "id": "HcC56LOxAnVs",
        "outputId": "447f7a53-9a1d-4d11-e632-e938c13f10b2"
      },
      "execution_count": 33,
      "outputs": [
        {
          "output_type": "stream",
          "name": "stdout",
          "text": [
            "id                      0\n",
            "timestamp               0\n",
            "hour                    0\n",
            "day                     0\n",
            "month                   0\n",
            "datetime                0\n",
            "timezone                0\n",
            "source                  0\n",
            "destination             0\n",
            "cab_type                0\n",
            "product_id              0\n",
            "name                    0\n",
            "price                 165\n",
            "distance                0\n",
            "surge_multiplier        0\n",
            "latitude                0\n",
            "longitude               0\n",
            "temperature             0\n",
            "short_summary           0\n",
            "long_summary            0\n",
            "precipProbability       0\n",
            "windGust                0\n",
            "temperatureHigh         1\n",
            "temperatureLow          1\n",
            "temperatureLowTime      1\n",
            "icon                    1\n",
            "pressure                1\n",
            "temperatureMin          1\n",
            "temperatureMax          1\n",
            "dtype: int64\n",
            "172\n"
          ]
        }
      ]
    },
    {
      "cell_type": "markdown",
      "source": [
        "Analysis"
      ],
      "metadata": {
        "id": "T9Vof36nLJ_P"
      }
    },
    {
      "cell_type": "code",
      "source": [
        "hours = data2['hour'].value_counts()\n",
        "hours.plot(kind= 'bar', color= 'brown', figsize= (10,5))\n",
        "plt.xlabel( 'Hours' )\n",
        "plt.ylabel( 'Number of Trips' )\n",
        "plt.title( 'Number of trips Vs hours')"
      ],
      "metadata": {
        "colab": {
          "base_uri": "https://localhost:8080/",
          "height": 508
        },
        "id": "Dt7X2n8_AxmO",
        "outputId": "f66552e5-7040-4fef-d7ca-e97f25afbf6a"
      },
      "execution_count": 34,
      "outputs": [
        {
          "output_type": "execute_result",
          "data": {
            "text/plain": [
              "Text(0.5, 1.0, 'Number of trips Vs hours')"
            ]
          },
          "metadata": {},
          "execution_count": 34
        },
        {
          "output_type": "display_data",
          "data": {
            "text/plain": [
              "<Figure size 1000x500 with 1 Axes>"
            ],
            "image/png": "[encoded data removed]"
          },
          "metadata": {}
        }
      ]
    },
    {
      "cell_type": "code",
      "source": [
        "day_week = pd.to_datetime(data2['datetime'], format=\"%Y/%m/%d %H:%M:%S\", errors='coerce').dt.dayofweek\n",
        "day_week = day_week.apply(lambda x: calendar.day_name[x] if pd.notnull(x) else None)\n",
        "day_week = pd.Series(day_week)"
      ],
      "metadata": {
        "id": "JcOpD0deA22Q"
      },
      "execution_count": 36,
      "outputs": []
    },
    {
      "cell_type": "code",
      "source": [
        "import pandas as pd\n",
        "import matplotlib.pyplot as plt\n",
        "\n",
        "# Example data (ensure this is what you have in `day_week`)\n",
        "day_week = pd.Series([\n",
        "    'Monday', 'Tuesday', 'Wednesday', 'Thursday', 'Friday', 'Monday',\n",
        "    'Monday', 'Wednesday', 'Friday', 'Friday', 'Sunday', 'Tuesday',\n",
        "    'Monday', 'Saturday', 'Wednesday'\n",
        "])\n",
        "\n",
        "# Get the value counts (number of occurrences of each day)\n",
        "days = day_week.value_counts()\n",
        "\n",
        "# Print the value counts to check if it contains valid data\n",
        "print(days)\n",
        "\n",
        "# Reset the index to ensure it's suitable for plotting (optional)\n",
        "days = days.reset_index()\n",
        "days.columns = ['Day', 'Trips']  # Renaming columns if needed\n",
        "\n",
        "# Plot the horizontal bar chart\n",
        "days.plot(kind='barh', x='Day', y='Trips', color='darkred', figsize=(10, 5))\n",
        "\n",
        "# Add labels and title\n",
        "plt.xlabel('Number of Trips')\n",
        "plt.ylabel('Days')\n",
        "plt.title('Number of Trips vs Days')\n",
        "\n",
        "# Show the plot\n",
        "plt.show()\n"
      ],
      "metadata": {
        "colab": {
          "base_uri": "https://localhost:8080/",
          "height": 626
        },
        "id": "uIBtJogND7Y_",
        "outputId": "d210cb59-68cb-4f4c-d0dc-c76473789f25"
      },
      "execution_count": 42,
      "outputs": [
        {
          "output_type": "stream",
          "name": "stdout",
          "text": [
            "Monday       4\n",
            "Wednesday    3\n",
            "Friday       3\n",
            "Tuesday      2\n",
            "Thursday     1\n",
            "Sunday       1\n",
            "Saturday     1\n",
            "Name: count, dtype: int64\n"
          ]
        },
        {
          "output_type": "display_data",
          "data": {
            "text/plain": [
              "<Figure size 1000x500 with 1 Axes>"
            ],
            "image/png": "[encoded data removed]"
          },
          "metadata": {}
        }
      ]
    },
    {
      "cell_type": "code",
      "source": [
        "months = data2[ 'month' ].value_counts()\n",
        "months.plot(kind='barh', color= 'blue', figsize=(10, 5) )\n",
        "plt.xlabel('Number of Trips')\n",
        "plt.ylabel('Months' )\n",
        "plt.title( 'Number of trips Vs Months')"
      ],
      "metadata": {
        "colab": {
          "base_uri": "https://localhost:8080/",
          "height": 504
        },
        "id": "Uzfo27U0FoxE",
        "outputId": "6fde8f7e-208e-4f7e-de77-ef0888579e5d"
      },
      "execution_count": 43,
      "outputs": [
        {
          "output_type": "execute_result",
          "data": {
            "text/plain": [
              "Text(0.5, 1.0, 'Number of trips Vs Months')"
            ]
          },
          "metadata": {},
          "execution_count": 43
        },
        {
          "output_type": "display_data",
          "data": {
            "text/plain": [
              "<Figure size 1000x500 with 1 Axes>"
            ],
            "image/png": "[encoded data removed]"
          },
          "metadata": {}
        }
      ]
    },
    {
      "cell_type": "code",
      "source": [
        "months = data2[ 'day' ][data2['month']==12].value_counts()\n",
        "months.plot(kind='bar', color= 'darkgray', figsize=(10, 5) )\n",
        "plt.xlabel('Days of December')\n",
        "plt.ylabel('Number of Trips' )\n",
        "plt.title( 'Number of trips Vs days of december')"
      ],
      "metadata": {
        "colab": {
          "base_uri": "https://localhost:8080/",
          "height": 508
        },
        "id": "VRNZ35FAFtmf",
        "outputId": "67956433-8e21-4150-b77a-da5310b5617c"
      },
      "execution_count": 44,
      "outputs": [
        {
          "output_type": "execute_result",
          "data": {
            "text/plain": [
              "Text(0.5, 1.0, 'Number of trips Vs days of december')"
            ]
          },
          "metadata": {},
          "execution_count": 44
        },
        {
          "output_type": "display_data",
          "data": {
            "text/plain": [
              "<Figure size 1000x500 with 1 Axes>"
            ],
            "image/png": "[encoded data removed]"
          },
          "metadata": {}
        }
      ]
    },
    {
      "cell_type": "code",
      "source": [
        "pic_point = data2[ 'source' ].value_counts().nlargest(10)\n",
        "pic_point.plot(kind='barh', color= 'lightblue', figsize=(10, 5))\n",
        "plt.xlabel('Number of Trips')\n",
        "plt.ylabel('Pickup points' )\n",
        "plt.title( 'Number of Trips by Pickup points')"
      ],
      "metadata": {
        "colab": {
          "base_uri": "https://localhost:8080/",
          "height": 504
        },
        "id": "g3NdiX-oFz4B",
        "outputId": "92c40e88-b22c-4397-fc08-ce77d10e8751"
      },
      "execution_count": 45,
      "outputs": [
        {
          "output_type": "execute_result",
          "data": {
            "text/plain": [
              "Text(0.5, 1.0, 'Number of Trips by Pickup points')"
            ]
          },
          "metadata": {},
          "execution_count": 45
        },
        {
          "output_type": "display_data",
          "data": {
            "text/plain": [
              "<Figure size 1000x500 with 1 Axes>"
            ],
            "image/png": "[encoded data removed]"
          },
          "metadata": {}
        }
      ]
    },
    {
      "cell_type": "code",
      "source": [
        "drop_point = data2[ 'destination' ].value_counts().nlargest(10)\n",
        "drop_point.plot(kind='barh', color= 'lightgreen', figsize=(10, 5))\n",
        "plt.xlabel('Number of Trips')\n",
        "plt.ylabel('Drop points' )\n",
        "plt.title( 'Number of Trips by Drop points')"
      ],
      "metadata": {
        "colab": {
          "base_uri": "https://localhost:8080/",
          "height": 504
        },
        "id": "ZOa21U9dGMms",
        "outputId": "b482fbcc-5509-48ea-aa55-03e7470b1853"
      },
      "execution_count": 46,
      "outputs": [
        {
          "output_type": "execute_result",
          "data": {
            "text/plain": [
              "Text(0.5, 1.0, 'Number of Trips by Drop points')"
            ]
          },
          "metadata": {},
          "execution_count": 46
        },
        {
          "output_type": "display_data",
          "data": {
            "text/plain": [
              "<Figure size 1000x500 with 1 Axes>"
            ],
            "image/png": "[encoded data removed]"
          },
          "metadata": {}
        }
      ]
    },
    {
      "cell_type": "code",
      "source": [
        "p_p = data2[[ 'source', 'destination'] ].value_counts().nlargest(10)\n",
        "p_p.plot(kind='barh', color= 'green', figsize=(10, 5))\n",
        "plt.xlabel('Frequency')\n",
        "plt.ylabel('point - point' )\n",
        "plt.title( 'points - points Trips Counts')"
      ],
      "metadata": {
        "colab": {
          "base_uri": "https://localhost:8080/",
          "height": 504
        },
        "id": "VF5ROyDVGRyA",
        "outputId": "fb9fcc6e-a181-4386-be4b-dc770483fd5e"
      },
      "execution_count": 47,
      "outputs": [
        {
          "output_type": "execute_result",
          "data": {
            "text/plain": [
              "Text(0.5, 1.0, 'points - points Trips Counts')"
            ]
          },
          "metadata": {},
          "execution_count": 47
        },
        {
          "output_type": "display_data",
          "data": {
            "text/plain": [
              "<Figure size 1000x500 with 1 Axes>"
            ],
            "image/png": "[encoded data removed]"
          },
          "metadata": {}
        }
      ]
    },
    {
      "cell_type": "code",
      "source": [
        "cabs = data2['name'].value_counts()\n",
        "cabs.plot(kind='barh',figsize=(10, 5))\n",
        "plt.xlabel('Count')\n",
        "plt.ylabel('Cabs Name' )\n",
        "plt.title( 'Number of Trips by Cabs Name ')"
      ],
      "metadata": {
        "colab": {
          "base_uri": "https://localhost:8080/",
          "height": 504
        },
        "id": "C7RGnWHgGwEY",
        "outputId": "6dfc224c-ef5e-4c19-ad08-23944a622b79"
      },
      "execution_count": 48,
      "outputs": [
        {
          "output_type": "execute_result",
          "data": {
            "text/plain": [
              "Text(0.5, 1.0, 'Number of Trips by Cabs Name ')"
            ]
          },
          "metadata": {},
          "execution_count": 48
        },
        {
          "output_type": "display_data",
          "data": {
            "text/plain": [
              "<Figure size 1000x500 with 1 Axes>"
            ],
            "image/png": "[encoded data removed]"
          },
          "metadata": {}
        }
      ]
    },
    {
      "cell_type": "code",
      "source": [
        "# Exporting tha data in csv format for visualization job...\n",
        "\n",
        "# data2.to_csv('uber_data02.csv', index=False)"
      ],
      "metadata": {
        "id": "0BSkM8PHG3gS"
      },
      "execution_count": 49,
      "outputs": []
    },
    {
      "cell_type": "markdown",
      "source": [
        "Predictive Analysis for Uber Price Prediction using Machine Learning"
      ],
      "metadata": {
        "id": "dLuwnOFRLiUE"
      }
    },
    {
      "cell_type": "code",
      "source": [
        "from sklearn import preprocessing\n",
        "label_encoder = preprocessing.LabelEncoder()"
      ],
      "metadata": {
        "id": "6XbIO2LqG432"
      },
      "execution_count": 50,
      "outputs": []
    },
    {
      "cell_type": "code",
      "source": [
        "data2['id'] = label_encoder.fit_transform(data2['id'])\n",
        "data2['datetime'] = label_encoder.fit_transform(data2['datetime'])\n",
        "data2['timezone'] = label_encoder.fit_transform(data2['timezone'])\n",
        "data2['destination'] = label_encoder.fit_transform(data2['destination'])\n",
        "data2['product_id'] = label_encoder.fit_transform(data2['product_id'])\n",
        "data2['short_summary'] = label_encoder.fit_transform(data2['short_summary'])\n",
        "data2['long_summary'] = label_encoder.fit_transform(data2['long_summary'])\n",
        "data2['name'] = label_encoder.fit_transform(data2['name'])"
      ],
      "metadata": {
        "id": "mShoJhevHBZi"
      },
      "execution_count": 51,
      "outputs": []
    },
    {
      "cell_type": "code",
      "source": [
        "print(\"Class mapping of Name: \")\n",
        "for i, item in enumerate(label_encoder.classes_):\n",
        "    print(item, \"-->\", i)"
      ],
      "metadata": {
        "colab": {
          "base_uri": "https://localhost:8080/"
        },
        "id": "0qK3rJLkHFnh",
        "outputId": "ac65fbe6-4c4c-4583-ded8-80297073b559"
      },
      "execution_count": 52,
      "outputs": [
        {
          "output_type": "stream",
          "name": "stdout",
          "text": [
            "Class mapping of Name: \n",
            "Black --> 0\n",
            "Black SUV --> 1\n",
            "Lux --> 2\n",
            "Lux Black --> 3\n",
            "Lux Black XL --> 4\n",
            "Lyft --> 5\n",
            "Lyft XL --> 6\n",
            "Shared --> 7\n",
            "UberPool --> 8\n",
            "UberX --> 9\n",
            "UberXL --> 10\n",
            "WAV --> 11\n"
          ]
        }
      ]
    },
    {
      "cell_type": "code",
      "source": [
        "data2['source'] = label_encoder.fit_transform(data2['source'])\n",
        "\n",
        "print(\"Class mapping of Source: \")\n",
        "for i, item in enumerate(label_encoder.classes_):\n",
        "    print(item, \"-->\", i)"
      ],
      "metadata": {
        "colab": {
          "base_uri": "https://localhost:8080/"
        },
        "id": "c7c-eBAYHQAc",
        "outputId": "36875157-29d3-48b5-b112-2ec2034626ae"
      },
      "execution_count": 53,
      "outputs": [
        {
          "output_type": "stream",
          "name": "stdout",
          "text": [
            "Class mapping of Source: \n",
            "Back Bay --> 0\n",
            "Beacon Hill --> 1\n",
            "Boston University --> 2\n",
            "Fenway --> 3\n",
            "Financial District --> 4\n",
            "Haymarket Square --> 5\n",
            "North End --> 6\n",
            "North Station --> 7\n",
            "Northeastern University --> 8\n",
            "South Station --> 9\n",
            "Theatre District --> 10\n",
            "West End --> 11\n"
          ]
        }
      ]
    },
    {
      "cell_type": "code",
      "source": [
        "data2['icon'] = label_encoder.fit_transform(data2['icon'])\n",
        "\n",
        "print(\"Class mapping of Icon: \")\n",
        "for i, item in enumerate(label_encoder.classes_):\n",
        "    print(item, \"-->\", i)"
      ],
      "metadata": {
        "colab": {
          "base_uri": "https://localhost:8080/"
        },
        "id": "iD5Ii2GGHd_q",
        "outputId": "6bd965ce-db7e-4695-cc28-89561bd45962"
      },
      "execution_count": 55,
      "outputs": [
        {
          "output_type": "stream",
          "name": "stdout",
          "text": [
            "Class mapping of Icon: \n",
            "0 --> 0\n",
            "1 --> 1\n",
            "2 --> 2\n",
            "3 --> 3\n",
            "4 --> 4\n",
            "5 --> 5\n",
            "6 --> 6\n"
          ]
        }
      ]
    },
    {
      "cell_type": "code",
      "source": [
        "data2['cab_type'] = label_encoder.fit_transform(data2['cab_type'])\n",
        "\n",
        "print(\"Class mapping of Cabe_type: \")\n",
        "for i, item in enumerate(label_encoder.classes_):\n",
        "    print(item, \"-->\", i)"
      ],
      "metadata": {
        "colab": {
          "base_uri": "https://localhost:8080/"
        },
        "id": "aJJM_9-EHsiA",
        "outputId": "92c8f239-ca16-4495-80d1-2d8604dc9f7b"
      },
      "execution_count": 56,
      "outputs": [
        {
          "output_type": "stream",
          "name": "stdout",
          "text": [
            "Class mapping of Cabe_type: \n",
            "Lyft --> 0\n",
            "Uber --> 1\n"
          ]
        }
      ]
    },
    {
      "cell_type": "code",
      "source": [
        "len(data2[data2['cab_type']==1])"
      ],
      "metadata": {
        "colab": {
          "base_uri": "https://localhost:8080/"
        },
        "id": "q-FfmqF-Hvqq",
        "outputId": "4b40eb34-d184-4633-bbef-0c5f42bffc58"
      },
      "execution_count": 57,
      "outputs": [
        {
          "output_type": "execute_result",
          "data": {
            "text/plain": [
              "958"
            ]
          },
          "metadata": {},
          "execution_count": 57
        }
      ]
    },
    {
      "cell_type": "markdown",
      "source": [
        "Create the Training Dataset"
      ],
      "metadata": {
        "id": "3RGKkr1LLqPL"
      }
    },
    {
      "cell_type": "code",
      "source": [
        "x = data2[data2['cab_type']==1].drop(['price', 'cab_type'], axis=1)\n",
        "y = data2[data2['cab_type']==1]['price']"
      ],
      "metadata": {
        "id": "kq9Szpa6H8Ai"
      },
      "execution_count": 58,
      "outputs": []
    },
    {
      "cell_type": "code",
      "source": [
        "from sklearn.model_selection import train_test_split\n",
        "x_train, x_test, y_train, y_test = train_test_split(x, y, test_size=0.2, random_state = 42)"
      ],
      "metadata": {
        "id": "URLc3u-cIAZD"
      },
      "execution_count": 59,
      "outputs": []
    },
    {
      "cell_type": "code",
      "source": [
        "plt.hist(y, bins=20, color = 'lightblue')\n",
        "plt.show()"
      ],
      "metadata": {
        "colab": {
          "base_uri": "https://localhost:8080/",
          "height": 434
        },
        "id": "HZgpxDaZIRjD",
        "outputId": "f323af8b-2ab0-4f83-be42-c9b692677618"
      },
      "execution_count": 60,
      "outputs": [
        {
          "output_type": "display_data",
          "data": {
            "text/plain": [
              "<Figure size 640x480 with 1 Axes>"
            ],
            "image/png": "[encoded data removed]"
          },
          "metadata": {}
        }
      ]
    },
    {
      "cell_type": "markdown",
      "source": [
        "Import the sklearn Module"
      ],
      "metadata": {
        "id": "useXZ_8tLwxO"
      }
    },
    {
      "cell_type": "code",
      "source": [
        "from   sklearn.feature_selection   import   RFE\n",
        "from   sklearn.linear_model   import   LinearRegression\n",
        "from   sklearn.tree   import   DecisionTreeRegressor\n",
        "from   sklearn.ensemble   import   RandomForestRegressor\n",
        "\n",
        "\n",
        "from   sklearn   import  ensemble"
      ],
      "metadata": {
        "id": "Fxli5-6hIWTT"
      },
      "execution_count": 61,
      "outputs": []
    },
    {
      "cell_type": "code",
      "source": [
        "def train_test_models(x_train, y_train, x_test, y_test):\n",
        "    print(\"Linear Regression... \")\n",
        "    lr_model = LinearRegression()\n",
        "    lr_model = lr_model.fit(x_train,  y_train)\n",
        "    print(lr_model.score(x_test,  y_test))\n",
        "\n",
        "\n",
        "    print(\"Decision Tree... \")\n",
        "    dt_model = DecisionTreeRegressor(random_state = 0, max_depth = 10)\n",
        "    dt_model.fit(x_train,  y_train)\n",
        "    print(dt_model.score(x_test,  y_test))\n",
        "\n",
        "\n",
        "    print(\"Random Forest... \")\n",
        "    rf_model = RandomForestRegressor(n_estimators = 20, random_state = 0)\n",
        "    rf_model.fit(x_train,  y_train)\n",
        "    print(rf_model.score(x_test,  y_test))\n",
        "\n",
        "\n",
        "    print(\"GBM... \")\n",
        "    gbm_model = ensemble.GradientBoostingRegressor(n_estimators = 200, max_depth = 5)\n",
        "    gbm_model.fit(x_train,  y_train)\n",
        "    print(gbm_model.score(x_test,  y_test))\n",
        "\n",
        "    return [lr_model, dt_model, rf_model, gbm_model]"
      ],
      "metadata": {
        "id": "Jrz5NphFIjip"
      },
      "execution_count": 62,
      "outputs": []
    },
    {
      "cell_type": "code",
      "source": [
        "def feature_eliminate(trained_model, x, y, n_features=40):\n",
        "    rfe = RFE(trained_model, n_features_to_select=n_features)\n",
        "    rfe = rfe.fit(x, y)\n",
        "    x_new = x[x.columns[rfe.support_]]\n",
        "    x_train, x_test, y_train, y_test = train_test_split(x_new, y, test_size = 0.2, random_state = 0)\n",
        "    new_fit = trained_model.fit(x_train, y_train)\n",
        "    print(new_fit.score(x_test, y_test))"
      ],
      "metadata": {
        "id": "VgryUs9qIsMR"
      },
      "execution_count": 63,
      "outputs": []
    },
    {
      "cell_type": "code",
      "source": [
        "train_test_models(x_train, y_train, x_test, y_test)"
      ],
      "metadata": {
        "colab": {
          "base_uri": "https://localhost:8080/"
        },
        "id": "1IZhUgiqIwNs",
        "outputId": "671c5d66-571b-40fb-84c1-b3e8609b5272"
      },
      "execution_count": 64,
      "outputs": [
        {
          "output_type": "stream",
          "name": "stdout",
          "text": [
            "Linear Regression... \n",
            "0.6416808067772326\n",
            "Decision Tree... \n",
            "0.9268325693934585\n",
            "Random Forest... \n",
            "0.946422038127035\n",
            "GBM... \n",
            "0.9429059424425824\n"
          ]
        },
        {
          "output_type": "execute_result",
          "data": {
            "text/plain": [
              "[LinearRegression(),\n",
              " DecisionTreeRegressor(max_depth=10, random_state=0),\n",
              " RandomForestRegressor(n_estimators=20, random_state=0),\n",
              " GradientBoostingRegressor(max_depth=5, n_estimators=200)]"
            ]
          },
          "metadata": {},
          "execution_count": 64
        }
      ]
    },
    {
      "cell_type": "code",
      "source": [
        "model_list = train_test_models(x_train, y_train, x_test, y_test)\n",
        "n_features = [5, 10, 15, 20]\n",
        "\n",
        "for model in model_list:\n",
        "    for nf in n_features:\n",
        "        print(f\"{model}->{nf} features\")\n",
        "        feature_eliminate(model, x, y, nf)"
      ],
      "metadata": {
        "colab": {
          "base_uri": "https://localhost:8080/"
        },
        "id": "kN5b5jYEJBpE",
        "outputId": "7bd13ba4-fba6-4159-fcda-e0a8c0b8a191"
      },
      "execution_count": 65,
      "outputs": [
        {
          "output_type": "stream",
          "name": "stdout",
          "text": [
            "Linear Regression... \n",
            "0.6416808067772326\n",
            "Decision Tree... \n",
            "0.9268325693934585\n",
            "Random Forest... \n",
            "0.946422038127035\n",
            "GBM... \n",
            "0.9425518915948826\n",
            "LinearRegression()->5 features\n",
            "0.6533531306563909\n",
            "LinearRegression()->10 features\n",
            "0.6540416662466451\n",
            "LinearRegression()->15 features\n",
            "0.6455461160171263\n",
            "LinearRegression()->20 features\n",
            "0.6433326410095705\n",
            "DecisionTreeRegressor(max_depth=10, random_state=0)->5 features\n",
            "0.9292774827119584\n",
            "DecisionTreeRegressor(max_depth=10, random_state=0)->10 features\n",
            "0.9273593995860995\n",
            "DecisionTreeRegressor(max_depth=10, random_state=0)->15 features\n",
            "0.9235689704620902\n",
            "DecisionTreeRegressor(max_depth=10, random_state=0)->20 features\n",
            "0.9261470755029524\n",
            "RandomForestRegressor(n_estimators=20, random_state=0)->5 features\n",
            "0.952937536434355\n",
            "RandomForestRegressor(n_estimators=20, random_state=0)->10 features\n",
            "0.9535162915830862\n",
            "RandomForestRegressor(n_estimators=20, random_state=0)->15 features\n",
            "0.9522412441972828\n",
            "RandomForestRegressor(n_estimators=20, random_state=0)->20 features\n",
            "0.9542309856359845\n",
            "GradientBoostingRegressor(max_depth=5, n_estimators=200)->5 features\n",
            "0.9614798909227864\n",
            "GradientBoostingRegressor(max_depth=5, n_estimators=200)->10 features\n",
            "0.9601756814947554\n",
            "GradientBoostingRegressor(max_depth=5, n_estimators=200)->15 features\n",
            "0.9570107983510003\n",
            "GradientBoostingRegressor(max_depth=5, n_estimators=200)->20 features\n",
            "0.9514270390661799\n"
          ]
        }
      ]
    }
  ]
}